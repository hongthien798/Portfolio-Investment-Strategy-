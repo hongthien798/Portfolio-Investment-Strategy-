{
 "cells": [
  {
   "cell_type": "markdown",
   "metadata": {
    "id": "GffENB45UUIA"
   },
   "source": [
    "##### Investment Strategy"
   ]
  },
  {
   "cell_type": "code",
   "execution_count": 1,
   "metadata": {
    "colab": {
     "base_uri": "https://localhost:8080/"
    },
    "id": "8NNUPRSGUUID",
    "outputId": "ab7ba77d-e16c-43f9-a00b-c1a2ce0e88c5"
   },
   "outputs": [],
   "source": [
    "import pandas as pd\n",
    "import numpy as np\n",
    "import time\n",
    "import statsmodels.api as sm\n",
    "from tqdm import tqdm\n",
    "import os\n",
    "\n",
    "\n",
    "path_data = '/Users/hongt/Desktop/UBC MBAN/P4/BAFI 508/PJ/Final/'\n",
    "\n"
   ]
  },
  {
   "cell_type": "code",
   "execution_count": 2,
   "metadata": {
    "colab": {
     "base_uri": "https://localhost:8080/"
    },
    "id": "k5usuOWWWGDU",
    "outputId": "e952b6e0-cb3a-471d-858b-eabc92900fde"
   },
   "outputs": [
    {
     "data": {
      "text/plain": [
       "['.ipynb_checkpoints',\n",
       " 'CRSP_Dividend.ipynb',\n",
       " 'dividend_yearly.csv',\n",
       " 'F-F_Research_Data_Factors_2018.csv',\n",
       " 'ikd7pnvlgcwtgfuu.csv',\n",
       " 'InvestmentStrategy_Dividend_yield02.ipynb',\n",
       " 'portfolios2.xlsx']"
      ]
     },
     "execution_count": 2,
     "metadata": {},
     "output_type": "execute_result"
    }
   ],
   "source": [
    "os.listdir(path_data)"
   ]
  },
  {
   "cell_type": "markdown",
   "metadata": {},
   "source": [
    "## Step 1: Preparing the CRSP file"
   ]
  },
  {
   "cell_type": "code",
   "execution_count": 3,
   "metadata": {},
   "outputs": [
    {
     "name": "stdout",
     "output_type": "stream",
     "text": [
      "Prepare CRSP file\n",
      "Completed in 3.5s\n"
     ]
    }
   ],
   "source": [
    "print(\"Prepare CRSP file\")\n",
    "t = time.time() # record the current time, so we can measure how long the code takes to run\n",
    "\n",
    "crsp = pd.read_csv(path_data+'ikd7pnvlgcwtgfuu.csv')\n",
    "print('Completed in %.1fs' % (time.time()-t)) # show how long it took to run this code block"
   ]
  },
  {
   "cell_type": "code",
   "execution_count": 4,
   "metadata": {},
   "outputs": [
    {
     "data": {
      "text/html": [
       "<div>\n",
       "<style scoped>\n",
       "    .dataframe tbody tr th:only-of-type {\n",
       "        vertical-align: middle;\n",
       "    }\n",
       "\n",
       "    .dataframe tbody tr th {\n",
       "        vertical-align: top;\n",
       "    }\n",
       "\n",
       "    .dataframe thead th {\n",
       "        text-align: right;\n",
       "    }\n",
       "</style>\n",
       "<table border=\"1\" class=\"dataframe\">\n",
       "  <thead>\n",
       "    <tr style=\"text-align: right;\">\n",
       "      <th></th>\n",
       "      <th>PERMNO</th>\n",
       "      <th>date</th>\n",
       "      <th>SHRCD</th>\n",
       "      <th>EXCHCD</th>\n",
       "      <th>TICKER</th>\n",
       "      <th>COMNAM</th>\n",
       "      <th>PERMCO</th>\n",
       "      <th>PRC</th>\n",
       "      <th>RET</th>\n",
       "      <th>SHROUT</th>\n",
       "      <th>RETX</th>\n",
       "    </tr>\n",
       "  </thead>\n",
       "  <tbody>\n",
       "    <tr>\n",
       "      <th>0</th>\n",
       "      <td>10000</td>\n",
       "      <td>1985-12-31</td>\n",
       "      <td>NaN</td>\n",
       "      <td>NaN</td>\n",
       "      <td>NaN</td>\n",
       "      <td>NaN</td>\n",
       "      <td>7952</td>\n",
       "      <td>NaN</td>\n",
       "      <td>NaN</td>\n",
       "      <td>NaN</td>\n",
       "      <td>NaN</td>\n",
       "    </tr>\n",
       "    <tr>\n",
       "      <th>1</th>\n",
       "      <td>10000</td>\n",
       "      <td>1986-01-31</td>\n",
       "      <td>10.0</td>\n",
       "      <td>3.0</td>\n",
       "      <td>OMFGA</td>\n",
       "      <td>OPTIMUM MANUFACTURING INC</td>\n",
       "      <td>7952</td>\n",
       "      <td>-4.37500</td>\n",
       "      <td>C</td>\n",
       "      <td>3680.0</td>\n",
       "      <td>C</td>\n",
       "    </tr>\n",
       "    <tr>\n",
       "      <th>2</th>\n",
       "      <td>10000</td>\n",
       "      <td>1986-02-28</td>\n",
       "      <td>10.0</td>\n",
       "      <td>3.0</td>\n",
       "      <td>OMFGA</td>\n",
       "      <td>OPTIMUM MANUFACTURING INC</td>\n",
       "      <td>7952</td>\n",
       "      <td>-3.25000</td>\n",
       "      <td>-0.257143</td>\n",
       "      <td>3680.0</td>\n",
       "      <td>-0.257143</td>\n",
       "    </tr>\n",
       "    <tr>\n",
       "      <th>3</th>\n",
       "      <td>10000</td>\n",
       "      <td>1986-03-31</td>\n",
       "      <td>10.0</td>\n",
       "      <td>3.0</td>\n",
       "      <td>OMFGA</td>\n",
       "      <td>OPTIMUM MANUFACTURING INC</td>\n",
       "      <td>7952</td>\n",
       "      <td>-4.43750</td>\n",
       "      <td>0.365385</td>\n",
       "      <td>3680.0</td>\n",
       "      <td>0.365385</td>\n",
       "    </tr>\n",
       "    <tr>\n",
       "      <th>4</th>\n",
       "      <td>10000</td>\n",
       "      <td>1986-04-30</td>\n",
       "      <td>10.0</td>\n",
       "      <td>3.0</td>\n",
       "      <td>OMFGA</td>\n",
       "      <td>OPTIMUM MANUFACTURING INC</td>\n",
       "      <td>7952</td>\n",
       "      <td>-4.00000</td>\n",
       "      <td>-0.098592</td>\n",
       "      <td>3793.0</td>\n",
       "      <td>-0.098592</td>\n",
       "    </tr>\n",
       "    <tr>\n",
       "      <th>5</th>\n",
       "      <td>10000</td>\n",
       "      <td>1986-05-30</td>\n",
       "      <td>10.0</td>\n",
       "      <td>3.0</td>\n",
       "      <td>OMFGA</td>\n",
       "      <td>OPTIMUM MANUFACTURING INC</td>\n",
       "      <td>7952</td>\n",
       "      <td>-3.10938</td>\n",
       "      <td>-0.222656</td>\n",
       "      <td>3793.0</td>\n",
       "      <td>-0.222656</td>\n",
       "    </tr>\n",
       "    <tr>\n",
       "      <th>6</th>\n",
       "      <td>10000</td>\n",
       "      <td>1986-06-30</td>\n",
       "      <td>10.0</td>\n",
       "      <td>3.0</td>\n",
       "      <td>OMFGA</td>\n",
       "      <td>OPTIMUM MANUFACTURING INC</td>\n",
       "      <td>7952</td>\n",
       "      <td>-3.09375</td>\n",
       "      <td>-0.005025</td>\n",
       "      <td>3793.0</td>\n",
       "      <td>-0.005025</td>\n",
       "    </tr>\n",
       "    <tr>\n",
       "      <th>7</th>\n",
       "      <td>10000</td>\n",
       "      <td>1986-07-31</td>\n",
       "      <td>10.0</td>\n",
       "      <td>3.0</td>\n",
       "      <td>OMFGA</td>\n",
       "      <td>OPTIMUM MANUFACTURING INC</td>\n",
       "      <td>7952</td>\n",
       "      <td>-2.84375</td>\n",
       "      <td>-0.080808</td>\n",
       "      <td>3793.0</td>\n",
       "      <td>-0.080808</td>\n",
       "    </tr>\n",
       "    <tr>\n",
       "      <th>8</th>\n",
       "      <td>10000</td>\n",
       "      <td>1986-08-29</td>\n",
       "      <td>10.0</td>\n",
       "      <td>3.0</td>\n",
       "      <td>OMFGA</td>\n",
       "      <td>OPTIMUM MANUFACTURING INC</td>\n",
       "      <td>7952</td>\n",
       "      <td>-1.09375</td>\n",
       "      <td>-0.615385</td>\n",
       "      <td>3793.0</td>\n",
       "      <td>-0.615385</td>\n",
       "    </tr>\n",
       "    <tr>\n",
       "      <th>9</th>\n",
       "      <td>10000</td>\n",
       "      <td>1986-09-30</td>\n",
       "      <td>10.0</td>\n",
       "      <td>3.0</td>\n",
       "      <td>OMFGA</td>\n",
       "      <td>OPTIMUM MANUFACTURING INC</td>\n",
       "      <td>7952</td>\n",
       "      <td>-1.03125</td>\n",
       "      <td>-0.057143</td>\n",
       "      <td>3793.0</td>\n",
       "      <td>-0.057143</td>\n",
       "    </tr>\n",
       "  </tbody>\n",
       "</table>\n",
       "</div>"
      ],
      "text/plain": [
       "   PERMNO        date  SHRCD  EXCHCD TICKER                     COMNAM  \\\n",
       "0   10000  1985-12-31    NaN     NaN    NaN                        NaN   \n",
       "1   10000  1986-01-31   10.0     3.0  OMFGA  OPTIMUM MANUFACTURING INC   \n",
       "2   10000  1986-02-28   10.0     3.0  OMFGA  OPTIMUM MANUFACTURING INC   \n",
       "3   10000  1986-03-31   10.0     3.0  OMFGA  OPTIMUM MANUFACTURING INC   \n",
       "4   10000  1986-04-30   10.0     3.0  OMFGA  OPTIMUM MANUFACTURING INC   \n",
       "5   10000  1986-05-30   10.0     3.0  OMFGA  OPTIMUM MANUFACTURING INC   \n",
       "6   10000  1986-06-30   10.0     3.0  OMFGA  OPTIMUM MANUFACTURING INC   \n",
       "7   10000  1986-07-31   10.0     3.0  OMFGA  OPTIMUM MANUFACTURING INC   \n",
       "8   10000  1986-08-29   10.0     3.0  OMFGA  OPTIMUM MANUFACTURING INC   \n",
       "9   10000  1986-09-30   10.0     3.0  OMFGA  OPTIMUM MANUFACTURING INC   \n",
       "\n",
       "   PERMCO      PRC        RET  SHROUT       RETX  \n",
       "0    7952      NaN        NaN     NaN        NaN  \n",
       "1    7952 -4.37500          C  3680.0          C  \n",
       "2    7952 -3.25000  -0.257143  3680.0  -0.257143  \n",
       "3    7952 -4.43750   0.365385  3680.0   0.365385  \n",
       "4    7952 -4.00000  -0.098592  3793.0  -0.098592  \n",
       "5    7952 -3.10938  -0.222656  3793.0  -0.222656  \n",
       "6    7952 -3.09375  -0.005025  3793.0  -0.005025  \n",
       "7    7952 -2.84375  -0.080808  3793.0  -0.080808  \n",
       "8    7952 -1.09375  -0.615385  3793.0  -0.615385  \n",
       "9    7952 -1.03125  -0.057143  3793.0  -0.057143  "
      ]
     },
     "execution_count": 4,
     "metadata": {},
     "output_type": "execute_result"
    }
   ],
   "source": [
    "crsp.head(10)"
   ]
  },
  {
   "cell_type": "code",
   "execution_count": 5,
   "metadata": {},
   "outputs": [
    {
     "data": {
      "text/plain": [
       "34046"
      ]
     },
     "execution_count": 5,
     "metadata": {},
     "output_type": "execute_result"
    }
   ],
   "source": [
    "sum(crsp['RET'].isna())"
   ]
  },
  {
   "cell_type": "code",
   "execution_count": 6,
   "metadata": {},
   "outputs": [
    {
     "data": {
      "text/plain": [
       "PERMNO      int64\n",
       "date       object\n",
       "SHRCD     float64\n",
       "EXCHCD    float64\n",
       "TICKER     object\n",
       "COMNAM     object\n",
       "PERMCO      int64\n",
       "PRC       float64\n",
       "RET        object\n",
       "SHROUT    float64\n",
       "RETX       object\n",
       "dtype: object"
      ]
     },
     "execution_count": 6,
     "metadata": {},
     "output_type": "execute_result"
    }
   ],
   "source": [
    "crsp.dtypes"
   ]
  },
  {
   "cell_type": "markdown",
   "metadata": {},
   "source": [
    "#### Formatting Data:"
   ]
  },
  {
   "cell_type": "code",
   "execution_count": 7,
   "metadata": {
    "colab": {
     "base_uri": "https://localhost:8080/"
    },
    "id": "tsbqiD7rUUIE",
    "outputId": "6c0b3ef5-5f9b-4951-9f89-b617af54cd51"
   },
   "outputs": [
    {
     "name": "stdout",
     "output_type": "stream",
     "text": [
      "Completed in 20.6s\n"
     ]
    }
   ],
   "source": [
    "### formatting ###\n",
    "# make all variable names lowercase\n",
    "t = time.time()\n",
    "crsp.columns = map(str.lower,crsp.columns)\n",
    "\n",
    "# Changes the returns to number format. Non-numeric data will be NAN\n",
    "crsp['ret'] = pd.to_numeric(crsp['ret'],errors='coerce') \n",
    "\n",
    "# Change the dateformat\n",
    "crsp['date'] = pd.to_datetime(crsp['date'], format='%Y-%m-%d')\n",
    "\n",
    "# Create separate 'year' and 'month' variables\n",
    "crsp['year'] = crsp['date'].apply(lambda date: date.year)\n",
    "crsp['month'] = crsp['date'].apply(lambda date: date.month)\n",
    "\n",
    "# Calculate market cap\n",
    "crsp['mktcap'] = crsp['shrout'] * crsp['prc'].abs()\n",
    "\n",
    "\n",
    "### Some basic data cleaning ###\n",
    "# keep only common shares\n",
    "crsp = crsp[crsp['shrcd'].isin([10,11])]\n",
    "\n",
    "# keep only stocks from NYSE, AMEX and NASDAQ\n",
    "crsp = crsp[crsp['exchcd'].isin([1,2,3])]\n",
    "\n",
    "# make sure that there are no duplicates\n",
    "# usually, we would investigate why there are duplicates and then decide which observation we want to keep\n",
    "#    For here, it is enough to simply drop the duplicates.\n",
    "crsp = crsp.drop_duplicates(subset=['date','permno'])\n",
    "\n",
    "\n",
    "print('Completed in %.1fs' % (time.time()-t)) # show how long it took to run this code block\n"
   ]
  },
  {
   "cell_type": "markdown",
   "metadata": {},
   "source": [
    "### Step 2: Loading the Dividened_Yield File (Already prepared in another notebook)"
   ]
  },
  {
   "cell_type": "code",
   "execution_count": 8,
   "metadata": {},
   "outputs": [
    {
     "name": "stdout",
     "output_type": "stream",
     "text": [
      "Prepare dividend_yield file\n",
      "Completed in 0.7s\n"
     ]
    }
   ],
   "source": [
    "print(\"Prepare dividend_yield file\")\n",
    "t = time.time() \n",
    "dv = pd.read_csv(path_data+'dividend_yearly.csv')\n",
    "print('Completed in %.1fs' % (time.time()-t))"
   ]
  },
  {
   "cell_type": "code",
   "execution_count": 9,
   "metadata": {},
   "outputs": [
    {
     "data": {
      "text/html": [
       "<div>\n",
       "<style scoped>\n",
       "    .dataframe tbody tr th:only-of-type {\n",
       "        vertical-align: middle;\n",
       "    }\n",
       "\n",
       "    .dataframe tbody tr th {\n",
       "        vertical-align: top;\n",
       "    }\n",
       "\n",
       "    .dataframe thead th {\n",
       "        text-align: right;\n",
       "    }\n",
       "</style>\n",
       "<table border=\"1\" class=\"dataframe\">\n",
       "  <thead>\n",
       "    <tr style=\"text-align: right;\">\n",
       "      <th></th>\n",
       "      <th>PERMNO</th>\n",
       "      <th>SHRCD</th>\n",
       "      <th>EXCHCD</th>\n",
       "      <th>TICKER</th>\n",
       "      <th>COMNAM</th>\n",
       "      <th>PERMCO</th>\n",
       "      <th>PRC</th>\n",
       "      <th>SHROUT</th>\n",
       "      <th>date</th>\n",
       "      <th>RET_DM</th>\n",
       "      <th>dvy</th>\n",
       "    </tr>\n",
       "  </thead>\n",
       "  <tbody>\n",
       "    <tr>\n",
       "      <th>0</th>\n",
       "      <td>10000</td>\n",
       "      <td>10.0</td>\n",
       "      <td>3.0</td>\n",
       "      <td>OMFGA</td>\n",
       "      <td>OPTIMUM MANUFACTURING INC</td>\n",
       "      <td>7952</td>\n",
       "      <td>-3.09375</td>\n",
       "      <td>3793.0</td>\n",
       "      <td>1986-06-30</td>\n",
       "      <td>0.000000</td>\n",
       "      <td>0.000000</td>\n",
       "    </tr>\n",
       "    <tr>\n",
       "      <th>1</th>\n",
       "      <td>10000</td>\n",
       "      <td>10.0</td>\n",
       "      <td>3.0</td>\n",
       "      <td>OMFGA</td>\n",
       "      <td>OPTIMUM MANUFACTURING INC</td>\n",
       "      <td>7952</td>\n",
       "      <td>NaN</td>\n",
       "      <td>3893.0</td>\n",
       "      <td>1987-06-30</td>\n",
       "      <td>0.000000</td>\n",
       "      <td>NaN</td>\n",
       "    </tr>\n",
       "    <tr>\n",
       "      <th>2</th>\n",
       "      <td>10001</td>\n",
       "      <td>11.0</td>\n",
       "      <td>3.0</td>\n",
       "      <td>GFGC</td>\n",
       "      <td>GREAT FALLS GAS CO</td>\n",
       "      <td>7953</td>\n",
       "      <td>-6.12500</td>\n",
       "      <td>985.0</td>\n",
       "      <td>1986-06-30</td>\n",
       "      <td>0.031834</td>\n",
       "      <td>192.058501</td>\n",
       "    </tr>\n",
       "    <tr>\n",
       "      <th>3</th>\n",
       "      <td>10001</td>\n",
       "      <td>11.0</td>\n",
       "      <td>3.0</td>\n",
       "      <td>GFGC</td>\n",
       "      <td>GREAT FALLS GAS CO</td>\n",
       "      <td>7953</td>\n",
       "      <td>5.87500</td>\n",
       "      <td>991.0</td>\n",
       "      <td>1987-06-30</td>\n",
       "      <td>0.066416</td>\n",
       "      <td>386.682254</td>\n",
       "    </tr>\n",
       "    <tr>\n",
       "      <th>4</th>\n",
       "      <td>10001</td>\n",
       "      <td>11.0</td>\n",
       "      <td>3.0</td>\n",
       "      <td>GFGC</td>\n",
       "      <td>GREAT FALLS GAS CO</td>\n",
       "      <td>7953</td>\n",
       "      <td>6.25000</td>\n",
       "      <td>992.0</td>\n",
       "      <td>1988-06-30</td>\n",
       "      <td>0.066508</td>\n",
       "      <td>412.349600</td>\n",
       "    </tr>\n",
       "  </tbody>\n",
       "</table>\n",
       "</div>"
      ],
      "text/plain": [
       "   PERMNO  SHRCD  EXCHCD TICKER                     COMNAM  PERMCO      PRC  \\\n",
       "0   10000   10.0     3.0  OMFGA  OPTIMUM MANUFACTURING INC    7952 -3.09375   \n",
       "1   10000   10.0     3.0  OMFGA  OPTIMUM MANUFACTURING INC    7952      NaN   \n",
       "2   10001   11.0     3.0   GFGC         GREAT FALLS GAS CO    7953 -6.12500   \n",
       "3   10001   11.0     3.0   GFGC         GREAT FALLS GAS CO    7953  5.87500   \n",
       "4   10001   11.0     3.0   GFGC         GREAT FALLS GAS CO    7953  6.25000   \n",
       "\n",
       "   SHROUT        date    RET_DM         dvy  \n",
       "0  3793.0  1986-06-30  0.000000    0.000000  \n",
       "1  3893.0  1987-06-30  0.000000         NaN  \n",
       "2   985.0  1986-06-30  0.031834  192.058501  \n",
       "3   991.0  1987-06-30  0.066416  386.682254  \n",
       "4   992.0  1988-06-30  0.066508  412.349600  "
      ]
     },
     "execution_count": 9,
     "metadata": {},
     "output_type": "execute_result"
    }
   ],
   "source": [
    "dv=dv.drop('Unnamed: 0',axis=1)\n",
    "dv.head()"
   ]
  },
  {
   "cell_type": "code",
   "execution_count": 10,
   "metadata": {},
   "outputs": [
    {
     "data": {
      "text/plain": [
       "3160"
      ]
     },
     "execution_count": 10,
     "metadata": {},
     "output_type": "execute_result"
    }
   ],
   "source": [
    "sum(dv['dvy'].isna())"
   ]
  },
  {
   "cell_type": "markdown",
   "metadata": {},
   "source": [
    "We get rid of the NaN values for dividend yield."
   ]
  },
  {
   "cell_type": "code",
   "execution_count": 11,
   "metadata": {},
   "outputs": [],
   "source": [
    "dv=dv[~dv['dvy'].isna()]"
   ]
  },
  {
   "cell_type": "code",
   "execution_count": 12,
   "metadata": {},
   "outputs": [
    {
     "data": {
      "text/plain": [
       "0.5155702911109437"
      ]
     },
     "execution_count": 12,
     "metadata": {},
     "output_type": "execute_result"
    }
   ],
   "source": [
    "sum(dv['dvy']==0)/len(dv)"
   ]
  },
  {
   "cell_type": "markdown",
   "metadata": {},
   "source": [
    "51% of the rows have zero dividend yield. We will put them into a separate portfolio and leave those with positive dividend yield to build five portfolios."
   ]
  },
  {
   "cell_type": "code",
   "execution_count": 13,
   "metadata": {},
   "outputs": [],
   "source": [
    "dv_0=dv[dv['dvy']==0].reset_index(drop=True)"
   ]
  },
  {
   "cell_type": "code",
   "execution_count": 14,
   "metadata": {},
   "outputs": [],
   "source": [
    "dv=dv[dv['dvy']>0].reset_index(drop=True)"
   ]
  },
  {
   "cell_type": "markdown",
   "metadata": {},
   "source": [
    "#### Formatting:"
   ]
  },
  {
   "cell_type": "code",
   "execution_count": 15,
   "metadata": {},
   "outputs": [
    {
     "name": "stdout",
     "output_type": "stream",
     "text": [
      "Completed in 0.4s\n"
     ]
    }
   ],
   "source": [
    "#For dv dataframe\n",
    "t = time.time() \n",
    "\n",
    "dv.columns = map(str.lower,dv.columns)\n",
    "\n",
    "# Change the dateformat \n",
    "\n",
    "dv['date'] = pd.to_datetime(dv['date'])\n",
    "\n",
    "\n",
    "# Create separate 'year' and 'month' variables\n",
    "dv['year'] = dv['date'].apply(lambda x: x.year)\n",
    "dv['month'] = dv['date'].apply(lambda x: x.month)\n",
    "\n",
    "\n",
    "### Drop duplicates ###\n",
    "#ccm = ccm.drop_duplicates(subset=['datadate','gvkey'])\n",
    "#ccm = ccm.drop_duplicates(subset=['year','gvkey'])\n",
    "#ccm = ccm.drop_duplicates(subset=['year','lpermno'])\n",
    "\n",
    "print('Completed in %.1fs' % (time.time()-t))"
   ]
  },
  {
   "cell_type": "code",
   "execution_count": 16,
   "metadata": {},
   "outputs": [
    {
     "name": "stdout",
     "output_type": "stream",
     "text": [
      "Completed in 0.4s\n"
     ]
    }
   ],
   "source": [
    "#For dv_0 dataframe\n",
    "t = time.time() \n",
    "\n",
    "dv_0.columns = map(str.lower,dv_0.columns)\n",
    "\n",
    "# Change the dateformat \n",
    "\n",
    "dv_0['date'] = pd.to_datetime(dv_0['date'])\n",
    "\n",
    "\n",
    "# Create separate 'year' and 'month' variables\n",
    "dv_0['year'] = dv_0['date'].apply(lambda x: x.year)\n",
    "dv_0['month'] = dv_0['date'].apply(lambda x: x.month)\n",
    "\n",
    "\n",
    "### Drop duplicates ###\n",
    "#ccm = ccm.drop_duplicates(subset=['datadate','gvkey'])\n",
    "#ccm = ccm.drop_duplicates(subset=['year','gvkey'])\n",
    "#ccm = ccm.drop_duplicates(subset=['year','lpermno'])\n",
    "\n",
    "print('Completed in %.1fs' % (time.time()-t))"
   ]
  },
  {
   "cell_type": "markdown",
   "metadata": {},
   "source": [
    "### Step 3: Sort stocks into portfolios and calculate returns"
   ]
  },
  {
   "cell_type": "code",
   "execution_count": 17,
   "metadata": {},
   "outputs": [
    {
     "data": {
      "text/plain": [
       "13805"
      ]
     },
     "execution_count": 17,
     "metadata": {},
     "output_type": "execute_result"
    }
   ],
   "source": [
    "len(dv['permno'].unique())"
   ]
  },
  {
   "cell_type": "code",
   "execution_count": 18,
   "metadata": {},
   "outputs": [
    {
     "data": {
      "text/plain": [
       "0"
      ]
     },
     "execution_count": 18,
     "metadata": {},
     "output_type": "execute_result"
    }
   ],
   "source": [
    "len(list(dv[dv['year']==1996]['permno'].unique()))"
   ]
  },
  {
   "cell_type": "code",
   "execution_count": 19,
   "metadata": {},
   "outputs": [
    {
     "data": {
      "text/html": [
       "<div>\n",
       "<style scoped>\n",
       "    .dataframe tbody tr th:only-of-type {\n",
       "        vertical-align: middle;\n",
       "    }\n",
       "\n",
       "    .dataframe tbody tr th {\n",
       "        vertical-align: top;\n",
       "    }\n",
       "\n",
       "    .dataframe thead th {\n",
       "        text-align: right;\n",
       "    }\n",
       "</style>\n",
       "<table border=\"1\" class=\"dataframe\">\n",
       "  <thead>\n",
       "    <tr style=\"text-align: right;\">\n",
       "      <th></th>\n",
       "      <th>permno</th>\n",
       "      <th>shrcd</th>\n",
       "      <th>exchcd</th>\n",
       "      <th>ticker</th>\n",
       "      <th>comnam</th>\n",
       "      <th>permco</th>\n",
       "      <th>prc</th>\n",
       "      <th>shrout</th>\n",
       "      <th>date</th>\n",
       "      <th>ret_dm</th>\n",
       "      <th>dvy</th>\n",
       "      <th>year</th>\n",
       "      <th>month</th>\n",
       "    </tr>\n",
       "  </thead>\n",
       "  <tbody>\n",
       "    <tr>\n",
       "      <th>0</th>\n",
       "      <td>10000</td>\n",
       "      <td>10.0</td>\n",
       "      <td>3.0</td>\n",
       "      <td>OMFGA</td>\n",
       "      <td>OPTIMUM MANUFACTURING INC</td>\n",
       "      <td>7952</td>\n",
       "      <td>-3.09375</td>\n",
       "      <td>3793.0</td>\n",
       "      <td>1986-06-30</td>\n",
       "      <td>0.0</td>\n",
       "      <td>0.0</td>\n",
       "      <td>1986</td>\n",
       "      <td>6</td>\n",
       "    </tr>\n",
       "    <tr>\n",
       "      <th>1</th>\n",
       "      <td>10001</td>\n",
       "      <td>11.0</td>\n",
       "      <td>3.0</td>\n",
       "      <td>EWST</td>\n",
       "      <td>ENERGY WEST INC</td>\n",
       "      <td>7953</td>\n",
       "      <td>6.66000</td>\n",
       "      <td>2599.0</td>\n",
       "      <td>2004-06-30</td>\n",
       "      <td>0.0</td>\n",
       "      <td>0.0</td>\n",
       "      <td>2004</td>\n",
       "      <td>6</td>\n",
       "    </tr>\n",
       "    <tr>\n",
       "      <th>2</th>\n",
       "      <td>10001</td>\n",
       "      <td>11.0</td>\n",
       "      <td>3.0</td>\n",
       "      <td>EWST</td>\n",
       "      <td>ENERGY WEST INC</td>\n",
       "      <td>7953</td>\n",
       "      <td>9.05000</td>\n",
       "      <td>2913.0</td>\n",
       "      <td>2005-06-30</td>\n",
       "      <td>0.0</td>\n",
       "      <td>0.0</td>\n",
       "      <td>2005</td>\n",
       "      <td>6</td>\n",
       "    </tr>\n",
       "    <tr>\n",
       "      <th>3</th>\n",
       "      <td>10002</td>\n",
       "      <td>10.0</td>\n",
       "      <td>3.0</td>\n",
       "      <td>MBNC</td>\n",
       "      <td>MOBILE NATIONAL CORP</td>\n",
       "      <td>7954</td>\n",
       "      <td>-12.68750</td>\n",
       "      <td>1175.0</td>\n",
       "      <td>1986-06-30</td>\n",
       "      <td>0.0</td>\n",
       "      <td>0.0</td>\n",
       "      <td>1986</td>\n",
       "      <td>6</td>\n",
       "    </tr>\n",
       "    <tr>\n",
       "      <th>4</th>\n",
       "      <td>10002</td>\n",
       "      <td>10.0</td>\n",
       "      <td>3.0</td>\n",
       "      <td>MBNC</td>\n",
       "      <td>MOBILE NATIONAL CORP</td>\n",
       "      <td>7954</td>\n",
       "      <td>-13.50000</td>\n",
       "      <td>1175.0</td>\n",
       "      <td>1987-06-30</td>\n",
       "      <td>0.0</td>\n",
       "      <td>0.0</td>\n",
       "      <td>1987</td>\n",
       "      <td>6</td>\n",
       "    </tr>\n",
       "  </tbody>\n",
       "</table>\n",
       "</div>"
      ],
      "text/plain": [
       "   permno  shrcd  exchcd ticker                     comnam  permco       prc  \\\n",
       "0   10000   10.0     3.0  OMFGA  OPTIMUM MANUFACTURING INC    7952  -3.09375   \n",
       "1   10001   11.0     3.0   EWST            ENERGY WEST INC    7953   6.66000   \n",
       "2   10001   11.0     3.0   EWST            ENERGY WEST INC    7953   9.05000   \n",
       "3   10002   10.0     3.0   MBNC       MOBILE NATIONAL CORP    7954 -12.68750   \n",
       "4   10002   10.0     3.0   MBNC       MOBILE NATIONAL CORP    7954 -13.50000   \n",
       "\n",
       "   shrout       date  ret_dm  dvy  year  month  \n",
       "0  3793.0 1986-06-30     0.0  0.0  1986      6  \n",
       "1  2599.0 2004-06-30     0.0  0.0  2004      6  \n",
       "2  2913.0 2005-06-30     0.0  0.0  2005      6  \n",
       "3  1175.0 1986-06-30     0.0  0.0  1986      6  \n",
       "4  1175.0 1987-06-30     0.0  0.0  1987      6  "
      ]
     },
     "execution_count": 19,
     "metadata": {},
     "output_type": "execute_result"
    }
   ],
   "source": [
    "dv_0.head()"
   ]
  },
  {
   "cell_type": "code",
   "execution_count": 20,
   "metadata": {},
   "outputs": [
    {
     "name": "stderr",
     "output_type": "stream",
     "text": [
      "years: 100%|██████████████████████████████████████████████████████████████████████████| 31/31 [00:00<00:00, 178.13it/s]\n"
     ]
    },
    {
     "data": {
      "text/plain": [
       "4359"
      ]
     },
     "execution_count": 20,
     "metadata": {},
     "output_type": "execute_result"
    }
   ],
   "source": [
    "permno_list=[]\n",
    "for year in tqdm(range(1986,2017),desc=\"years\"):\n",
    "    # take the companies that were alive at t-1\n",
    "    permno_list=list(dv[dv['year']==year-1]['permno'].unique())\n",
    "    \n",
    "len(permno_list)"
   ]
  },
  {
   "cell_type": "code",
   "execution_count": 21,
   "metadata": {
    "colab": {
     "base_uri": "https://localhost:8080/"
    },
    "id": "85bfBpoyUUIF",
    "outputId": "5ff09319-e00d-486c-bb70-801325ffba6c"
   },
   "outputs": [
    {
     "name": "stdout",
     "output_type": "stream",
     "text": [
      "Create portfolios\n"
     ]
    },
    {
     "name": "stderr",
     "output_type": "stream",
     "text": [
      "years: 100%|███████████████████████████████████████████████████████████████████████████| 31/31 [00:03<00:00,  8.38it/s]"
     ]
    },
    {
     "name": "stdout",
     "output_type": "stream",
     "text": [
      "Step 3 completed in 3.7s\n"
     ]
    },
    {
     "name": "stderr",
     "output_type": "stream",
     "text": [
      "\n"
     ]
    }
   ],
   "source": [
    "#Create 5 portfolios based on dv dataframe (companies with positive dividend yield)\n",
    "print(\"Create portfolios\")\n",
    "t = time.time() # reset our timer\n",
    "\n",
    "# loop over all years in the data\n",
    "# Note: the first loop loops over the years in range(1981,2017).\n",
    "\n",
    "portfolios = [] # create an empty list to collect the portfolio returns\n",
    "for year in tqdm(range(1986,2017),desc=\"years\"):\n",
    "    # take the companies that were alive at t-1\n",
    "    permno_list=list(dv[dv['year']==year-1]['permno'].unique()) \n",
    "    \n",
    "    # get the sorting variable for these companies at t-1\n",
    "    sorting_data = dv.loc[(dv['year']==(year-1)) & \\\n",
    "                           (dv['permno'].isin(permno_list)), \\\n",
    "                           ['permno','permco','dvy']]\n",
    "    \n",
    "    if(len(sorting_data)==0):\n",
    "        continue\n",
    "    \n",
    "    # sort into 5 baskets by cashflow over assets\n",
    "    nportfolios = 5 # number of portfolios\n",
    "    sorting_data['rank'] = pd.qcut(sorting_data['dvy'],nportfolios, labels=False, precision=3)\n",
    "    \n",
    "    # select the return data with some time lag to make sure that the accounting information is public (data from July at year t to June in year t+1)\n",
    "    crsp_window = crsp[((crsp['year']==year) & (crsp['month']>=6)) | \\\n",
    "                       ((crsp['year']==year+1) & (crsp['month']<=6))]\n",
    "    \n",
    "    # create the portfolio returns for the current window and collect them in portfolios_window\n",
    "    portfolios_window = [] \n",
    "    for p in range(nportfolios):\n",
    "        # get list of permnos that are in this portfolio\n",
    "        basket = sorting_data.loc[sorting_data['rank'] == p,'permno'].tolist()\n",
    "        \n",
    "        # get returns of these permnos\n",
    "        crsp_p_firms = crsp_window[crsp_window['permno'].isin(basket)]\n",
    "        \n",
    "        # pivot returns\n",
    "        returns = crsp_p_firms.pivot(index='date', columns='permno', values='ret')\n",
    "        returns = returns.iloc[1:,:] # drop the first row\n",
    "        \n",
    "        # create equally weighted portfolio (monthly rebalancing)\n",
    "        return_port = returns.mean(axis=1)\n",
    "        return_port.name = str(p)\n",
    "        \n",
    "        # collect portfolio returns in dec_port\n",
    "        portfolios_window += [return_port]\n",
    "        \n",
    "    # merge the portfolios\n",
    "    portfolios_window = pd.concat(portfolios_window,axis=1)\n",
    "        \n",
    "    # collect results in portfolios\n",
    "    portfolios += [portfolios_window]\n",
    "\n",
    "# merge the returns from all windows\n",
    "portfolios = pd.concat(portfolios,axis=0)\n",
    "\n",
    "\n",
    "print('Step 3 completed in %.1fs' % (time.time()-t)) # show how long it took to run this code block\n",
    "\n"
   ]
  },
  {
   "cell_type": "code",
   "execution_count": 22,
   "metadata": {},
   "outputs": [
    {
     "data": {
      "text/html": [
       "<div>\n",
       "<style scoped>\n",
       "    .dataframe tbody tr th:only-of-type {\n",
       "        vertical-align: middle;\n",
       "    }\n",
       "\n",
       "    .dataframe tbody tr th {\n",
       "        vertical-align: top;\n",
       "    }\n",
       "\n",
       "    .dataframe thead th {\n",
       "        text-align: right;\n",
       "    }\n",
       "</style>\n",
       "<table border=\"1\" class=\"dataframe\">\n",
       "  <thead>\n",
       "    <tr style=\"text-align: right;\">\n",
       "      <th></th>\n",
       "      <th>0</th>\n",
       "      <th>1</th>\n",
       "      <th>2</th>\n",
       "      <th>3</th>\n",
       "      <th>4</th>\n",
       "    </tr>\n",
       "    <tr>\n",
       "      <th>date</th>\n",
       "      <th></th>\n",
       "      <th></th>\n",
       "      <th></th>\n",
       "      <th></th>\n",
       "      <th></th>\n",
       "    </tr>\n",
       "  </thead>\n",
       "  <tbody>\n",
       "    <tr>\n",
       "      <th>1987-07-31</th>\n",
       "      <td>0.026985</td>\n",
       "      <td>0.038533</td>\n",
       "      <td>0.041173</td>\n",
       "      <td>0.044731</td>\n",
       "      <td>0.037965</td>\n",
       "    </tr>\n",
       "    <tr>\n",
       "      <th>1987-08-31</th>\n",
       "      <td>0.023139</td>\n",
       "      <td>0.032791</td>\n",
       "      <td>0.027127</td>\n",
       "      <td>0.037693</td>\n",
       "      <td>0.034250</td>\n",
       "    </tr>\n",
       "    <tr>\n",
       "      <th>1987-09-30</th>\n",
       "      <td>-0.009689</td>\n",
       "      <td>-0.011472</td>\n",
       "      <td>-0.017846</td>\n",
       "      <td>-0.020380</td>\n",
       "      <td>-0.020231</td>\n",
       "    </tr>\n",
       "    <tr>\n",
       "      <th>1987-10-30</th>\n",
       "      <td>-0.249682</td>\n",
       "      <td>-0.254192</td>\n",
       "      <td>-0.264913</td>\n",
       "      <td>-0.242824</td>\n",
       "      <td>-0.205500</td>\n",
       "    </tr>\n",
       "    <tr>\n",
       "      <th>1987-11-30</th>\n",
       "      <td>-0.028631</td>\n",
       "      <td>-0.029646</td>\n",
       "      <td>-0.036449</td>\n",
       "      <td>-0.044108</td>\n",
       "      <td>-0.056027</td>\n",
       "    </tr>\n",
       "    <tr>\n",
       "      <th>...</th>\n",
       "      <td>...</td>\n",
       "      <td>...</td>\n",
       "      <td>...</td>\n",
       "      <td>...</td>\n",
       "      <td>...</td>\n",
       "    </tr>\n",
       "    <tr>\n",
       "      <th>2010-02-26</th>\n",
       "      <td>0.025364</td>\n",
       "      <td>0.027819</td>\n",
       "      <td>0.050461</td>\n",
       "      <td>0.051990</td>\n",
       "      <td>0.031755</td>\n",
       "    </tr>\n",
       "    <tr>\n",
       "      <th>2010-03-31</th>\n",
       "      <td>0.075771</td>\n",
       "      <td>0.084026</td>\n",
       "      <td>0.087350</td>\n",
       "      <td>0.073981</td>\n",
       "      <td>0.063763</td>\n",
       "    </tr>\n",
       "    <tr>\n",
       "      <th>2010-04-30</th>\n",
       "      <td>0.101874</td>\n",
       "      <td>0.108747</td>\n",
       "      <td>0.072873</td>\n",
       "      <td>0.055211</td>\n",
       "      <td>0.034885</td>\n",
       "    </tr>\n",
       "    <tr>\n",
       "      <th>2010-05-28</th>\n",
       "      <td>-0.064629</td>\n",
       "      <td>-0.083818</td>\n",
       "      <td>-0.073840</td>\n",
       "      <td>-0.084716</td>\n",
       "      <td>-0.079742</td>\n",
       "    </tr>\n",
       "    <tr>\n",
       "      <th>2010-06-30</th>\n",
       "      <td>-0.068146</td>\n",
       "      <td>-0.095096</td>\n",
       "      <td>-0.097639</td>\n",
       "      <td>-0.065821</td>\n",
       "      <td>-0.058019</td>\n",
       "    </tr>\n",
       "  </tbody>\n",
       "</table>\n",
       "<p>204 rows × 5 columns</p>\n",
       "</div>"
      ],
      "text/plain": [
       "                   0         1         2         3         4\n",
       "date                                                        \n",
       "1987-07-31  0.026985  0.038533  0.041173  0.044731  0.037965\n",
       "1987-08-31  0.023139  0.032791  0.027127  0.037693  0.034250\n",
       "1987-09-30 -0.009689 -0.011472 -0.017846 -0.020380 -0.020231\n",
       "1987-10-30 -0.249682 -0.254192 -0.264913 -0.242824 -0.205500\n",
       "1987-11-30 -0.028631 -0.029646 -0.036449 -0.044108 -0.056027\n",
       "...              ...       ...       ...       ...       ...\n",
       "2010-02-26  0.025364  0.027819  0.050461  0.051990  0.031755\n",
       "2010-03-31  0.075771  0.084026  0.087350  0.073981  0.063763\n",
       "2010-04-30  0.101874  0.108747  0.072873  0.055211  0.034885\n",
       "2010-05-28 -0.064629 -0.083818 -0.073840 -0.084716 -0.079742\n",
       "2010-06-30 -0.068146 -0.095096 -0.097639 -0.065821 -0.058019\n",
       "\n",
       "[204 rows x 5 columns]"
      ]
     },
     "execution_count": 22,
     "metadata": {},
     "output_type": "execute_result"
    }
   ],
   "source": [
    "portfolios"
   ]
  },
  {
   "cell_type": "code",
   "execution_count": 23,
   "metadata": {},
   "outputs": [],
   "source": [
    "portfolios.to_excel('portfolios2.xlsx')"
   ]
  },
  {
   "cell_type": "markdown",
   "metadata": {},
   "source": [
    "### Step 4: Performance Evaluation\n",
    "#### Step 4a: Merge Portfolio returns with Fama French data"
   ]
  },
  {
   "cell_type": "code",
   "execution_count": 24,
   "metadata": {
    "id": "D3CrxzdOUUIG"
   },
   "outputs": [],
   "source": [
    "### load and prepare fama french data ###\n",
    "# load Fama French monthly factors\n",
    "ff = pd.read_csv(path_data+'F-F_Research_Data_Factors_2018.csv')\n",
    "# rename columns\n",
    "ff.rename({'Mkt-RF':'ExMkt',\n",
    "           'DATE':'date'},axis=1,inplace=True)\n",
    "\n",
    "# date variables\n",
    "ff['year'] = ff['date'] // 100\n",
    "ff['month'] = ff['date'] % 100\n",
    "ff.set_index('date',inplace=True)\n",
    "\n",
    "\n",
    "### formatting ###\n",
    "# FF data is in percent. Convert to simple returns\n",
    "ff[['ExMkt', 'SMB', 'HML', 'RF']] /= 100\n",
    "\n",
    "\n",
    "### merge portfolio returns with Fama French data ###\n",
    "# date variables\n",
    "portfolios_ff = portfolios.copy() # create a copy of the portfolios dataframe so we can use it again later\n",
    "portfolios_ff['year'] = portfolios_ff.index.year\n",
    "portfolios_ff['month'] = portfolios_ff.index.month\n",
    "\n",
    "# merge\n",
    "portfolios_ff = pd.merge(portfolios_ff,ff,on=['year','month'])\n"
   ]
  },
  {
   "cell_type": "markdown",
   "metadata": {},
   "source": [
    "### Step 4b: Regressions"
   ]
  },
  {
   "cell_type": "code",
   "execution_count": 25,
   "metadata": {},
   "outputs": [
    {
     "name": "stdout",
     "output_type": "stream",
     "text": [
      "Average returns (annualized percent)\n",
      " 0    10.766450\n",
      "1    10.325915\n",
      "2    11.654629\n",
      "3    11.575666\n",
      "4    11.848978\n",
      "dtype: float64\n"
     ]
    }
   ],
   "source": [
    "# show average returns (annualized and in percent)\n",
    "print(\"Average returns (annualized percent)\\n\",((1+portfolios.mean(axis=0))**12-1)*100)\n",
    "\n",
    "# Calculate the excess returns\n",
    "for p in range(nportfolios):\n",
    "    portfolios_ff['ExRet_'+str(p)] = portfolios_ff[str(p)]-portfolios_ff['RF']"
   ]
  },
  {
   "cell_type": "code",
   "execution_count": 26,
   "metadata": {},
   "outputs": [],
   "source": [
    "### Market model regressions ###\n",
    "table_capm = []\n",
    "for p in range(nportfolios):\n",
    "    # regress portfolio excess return on market excess return\n",
    "    results = sm.OLS(portfolios_ff['ExRet_'+str(p)],\n",
    "                     sm.add_constant(portfolios_ff['ExMkt'])).fit()\n",
    "    \n",
    "    # collect results\n",
    "    table_row = pd.DataFrame({'alpha':results.params['const'],\n",
    "                              'beta_mkt':results.params['ExMkt'],\n",
    "                              'alpha_t':results.tvalues['const'],\n",
    "                              'rmse':np.sqrt(results.mse_resid),\n",
    "                              'R2':results.rsquared},\n",
    "                             index=[p])\n",
    "    \n",
    "    table_capm += [table_row]"
   ]
  },
  {
   "cell_type": "code",
   "execution_count": 27,
   "metadata": {},
   "outputs": [
    {
     "name": "stdout",
     "output_type": "stream",
     "text": [
      "CAPM\n",
      "              alpha  beta_mkt   alpha_t      rmse        R2\n",
      "quintile                                                  \n",
      "0         0.002524  0.618541  1.302044  0.027591  0.501852\n",
      "1         0.001780  0.730615  0.846461  0.029933  0.544252\n",
      "2         0.002444  0.824540  1.184106  0.029377  0.612276\n",
      "3         0.002349  0.834074  1.375685  0.024310  0.702347\n",
      "4         0.002737  0.784268  1.746748  0.022304  0.712519\n"
     ]
    }
   ],
   "source": [
    "# Combine the results for all portfolios\n",
    "table_capm = pd.concat(table_capm,axis=0)\n",
    "table_capm.index.name = 'quintile'\n",
    "\n",
    "# show results\n",
    "print(\"CAPM\\n\",table_capm)"
   ]
  },
  {
   "cell_type": "code",
   "execution_count": 28,
   "metadata": {
    "colab": {
     "base_uri": "https://localhost:8080/"
    },
    "id": "TsVq_TL-UUIH",
    "outputId": "ad9f45fb-5e43-40fd-ed37-b831ebff84a9"
   },
   "outputs": [
    {
     "name": "stdout",
     "output_type": "stream",
     "text": [
      "Fama-French 3\n",
      "              alpha  beta_mkt  beta_size  beta_hml   alpha_t      rmse  \\\n",
      "quintile                                                                \n",
      "0         0.000245  0.683411   0.537768  0.594834  0.181858  0.018940   \n",
      "1        -0.001246  0.836657   0.606683  0.787424 -1.018106  0.017236   \n",
      "2        -0.000736  0.948914   0.567684  0.825861 -0.638587  0.016227   \n",
      "3        -0.000330  0.974752   0.285379  0.691927 -0.293921  0.015833   \n",
      "4         0.000307  0.968551  -0.046737  0.620851  0.343386  0.012584   \n",
      "\n",
      "                R2  \n",
      "quintile            \n",
      "0         0.767592  \n",
      "1         0.850387  \n",
      "2         0.882875  \n",
      "3         0.874990  \n",
      "4         0.909389  \n"
     ]
    }
   ],
   "source": [
    "### Three Factor model regressions ###\n",
    "table_ff = []\n",
    "for p in range(nportfolios):\n",
    "    # regress portfolio excess return on market excess return\n",
    "    results = sm.OLS(portfolios_ff['ExRet_'+str(p)],\n",
    "                     sm.add_constant(portfolios_ff[['ExMkt','SMB','HML']])).fit()\n",
    "    \n",
    "    # collect results\n",
    "    table_row = pd.DataFrame({'alpha':results.params['const'],\n",
    "                              'beta_mkt':results.params['ExMkt'],\n",
    "                              'beta_size':results.params['SMB'],\n",
    "                              'beta_hml':results.params['HML'],\n",
    "                              'alpha_t':results.tvalues['const'],\n",
    "                              'rmse':np.sqrt(results.mse_resid),\n",
    "                              'R2':results.rsquared},\n",
    "                             index=[p])\n",
    "    \n",
    "    table_ff += [table_row]\n",
    "\n",
    "# Combine the results for all portfolios\n",
    "table_ff = pd.concat(table_ff,axis=0)\n",
    "table_ff.index.name = 'quintile'\n",
    "\n",
    "# show results\n",
    "print(\"Fama-French 3\\n\",table_ff)"
   ]
  },
  {
   "cell_type": "code",
   "execution_count": 29,
   "metadata": {},
   "outputs": [
    {
     "data": {
      "text/html": [
       "<div>\n",
       "<style scoped>\n",
       "    .dataframe tbody tr th:only-of-type {\n",
       "        vertical-align: middle;\n",
       "    }\n",
       "\n",
       "    .dataframe tbody tr th {\n",
       "        vertical-align: top;\n",
       "    }\n",
       "\n",
       "    .dataframe thead th {\n",
       "        text-align: right;\n",
       "    }\n",
       "</style>\n",
       "<table border=\"1\" class=\"dataframe\">\n",
       "  <thead>\n",
       "    <tr style=\"text-align: right;\">\n",
       "      <th></th>\n",
       "      <th>0</th>\n",
       "      <th>1</th>\n",
       "      <th>2</th>\n",
       "      <th>3</th>\n",
       "      <th>4</th>\n",
       "      <th>year</th>\n",
       "      <th>month</th>\n",
       "      <th>ExMkt</th>\n",
       "      <th>SMB</th>\n",
       "      <th>HML</th>\n",
       "      <th>RF</th>\n",
       "      <th>ExRet_0</th>\n",
       "      <th>ExRet_1</th>\n",
       "      <th>ExRet_2</th>\n",
       "      <th>ExRet_3</th>\n",
       "      <th>ExRet_4</th>\n",
       "    </tr>\n",
       "  </thead>\n",
       "  <tbody>\n",
       "    <tr>\n",
       "      <th>0</th>\n",
       "      <td>0.026985</td>\n",
       "      <td>0.038533</td>\n",
       "      <td>0.041173</td>\n",
       "      <td>0.044731</td>\n",
       "      <td>0.037965</td>\n",
       "      <td>1987</td>\n",
       "      <td>7</td>\n",
       "      <td>0.0385</td>\n",
       "      <td>-0.0067</td>\n",
       "      <td>0.0066</td>\n",
       "      <td>0.0046</td>\n",
       "      <td>0.022385</td>\n",
       "      <td>0.033933</td>\n",
       "      <td>0.036573</td>\n",
       "      <td>0.040131</td>\n",
       "      <td>0.033365</td>\n",
       "    </tr>\n",
       "    <tr>\n",
       "      <th>1</th>\n",
       "      <td>0.023139</td>\n",
       "      <td>0.032791</td>\n",
       "      <td>0.027127</td>\n",
       "      <td>0.037693</td>\n",
       "      <td>0.034250</td>\n",
       "      <td>1987</td>\n",
       "      <td>8</td>\n",
       "      <td>0.0352</td>\n",
       "      <td>-0.0072</td>\n",
       "      <td>-0.0090</td>\n",
       "      <td>0.0047</td>\n",
       "      <td>0.018439</td>\n",
       "      <td>0.028091</td>\n",
       "      <td>0.022427</td>\n",
       "      <td>0.032993</td>\n",
       "      <td>0.029550</td>\n",
       "    </tr>\n",
       "    <tr>\n",
       "      <th>2</th>\n",
       "      <td>-0.009689</td>\n",
       "      <td>-0.011472</td>\n",
       "      <td>-0.017846</td>\n",
       "      <td>-0.020380</td>\n",
       "      <td>-0.020231</td>\n",
       "      <td>1987</td>\n",
       "      <td>9</td>\n",
       "      <td>-0.0259</td>\n",
       "      <td>0.0052</td>\n",
       "      <td>0.0028</td>\n",
       "      <td>0.0045</td>\n",
       "      <td>-0.014189</td>\n",
       "      <td>-0.015972</td>\n",
       "      <td>-0.022346</td>\n",
       "      <td>-0.024880</td>\n",
       "      <td>-0.024731</td>\n",
       "    </tr>\n",
       "    <tr>\n",
       "      <th>3</th>\n",
       "      <td>-0.249682</td>\n",
       "      <td>-0.254192</td>\n",
       "      <td>-0.264913</td>\n",
       "      <td>-0.242824</td>\n",
       "      <td>-0.205500</td>\n",
       "      <td>1987</td>\n",
       "      <td>10</td>\n",
       "      <td>-0.2324</td>\n",
       "      <td>-0.0843</td>\n",
       "      <td>0.0423</td>\n",
       "      <td>0.0060</td>\n",
       "      <td>-0.255682</td>\n",
       "      <td>-0.260192</td>\n",
       "      <td>-0.270913</td>\n",
       "      <td>-0.248824</td>\n",
       "      <td>-0.211500</td>\n",
       "    </tr>\n",
       "    <tr>\n",
       "      <th>4</th>\n",
       "      <td>-0.028631</td>\n",
       "      <td>-0.029646</td>\n",
       "      <td>-0.036449</td>\n",
       "      <td>-0.044108</td>\n",
       "      <td>-0.056027</td>\n",
       "      <td>1987</td>\n",
       "      <td>11</td>\n",
       "      <td>-0.0777</td>\n",
       "      <td>0.0277</td>\n",
       "      <td>0.0314</td>\n",
       "      <td>0.0035</td>\n",
       "      <td>-0.032131</td>\n",
       "      <td>-0.033146</td>\n",
       "      <td>-0.039949</td>\n",
       "      <td>-0.047608</td>\n",
       "      <td>-0.059527</td>\n",
       "    </tr>\n",
       "    <tr>\n",
       "      <th>...</th>\n",
       "      <td>...</td>\n",
       "      <td>...</td>\n",
       "      <td>...</td>\n",
       "      <td>...</td>\n",
       "      <td>...</td>\n",
       "      <td>...</td>\n",
       "      <td>...</td>\n",
       "      <td>...</td>\n",
       "      <td>...</td>\n",
       "      <td>...</td>\n",
       "      <td>...</td>\n",
       "      <td>...</td>\n",
       "      <td>...</td>\n",
       "      <td>...</td>\n",
       "      <td>...</td>\n",
       "      <td>...</td>\n",
       "    </tr>\n",
       "    <tr>\n",
       "      <th>199</th>\n",
       "      <td>0.025364</td>\n",
       "      <td>0.027819</td>\n",
       "      <td>0.050461</td>\n",
       "      <td>0.051990</td>\n",
       "      <td>0.031755</td>\n",
       "      <td>2010</td>\n",
       "      <td>2</td>\n",
       "      <td>0.0340</td>\n",
       "      <td>0.0121</td>\n",
       "      <td>0.0317</td>\n",
       "      <td>0.0000</td>\n",
       "      <td>0.025364</td>\n",
       "      <td>0.027819</td>\n",
       "      <td>0.050461</td>\n",
       "      <td>0.051990</td>\n",
       "      <td>0.031755</td>\n",
       "    </tr>\n",
       "    <tr>\n",
       "      <th>200</th>\n",
       "      <td>0.075771</td>\n",
       "      <td>0.084026</td>\n",
       "      <td>0.087350</td>\n",
       "      <td>0.073981</td>\n",
       "      <td>0.063763</td>\n",
       "      <td>2010</td>\n",
       "      <td>3</td>\n",
       "      <td>0.0631</td>\n",
       "      <td>0.0143</td>\n",
       "      <td>0.0210</td>\n",
       "      <td>0.0001</td>\n",
       "      <td>0.075671</td>\n",
       "      <td>0.083926</td>\n",
       "      <td>0.087250</td>\n",
       "      <td>0.073881</td>\n",
       "      <td>0.063663</td>\n",
       "    </tr>\n",
       "    <tr>\n",
       "      <th>201</th>\n",
       "      <td>0.101874</td>\n",
       "      <td>0.108747</td>\n",
       "      <td>0.072873</td>\n",
       "      <td>0.055211</td>\n",
       "      <td>0.034885</td>\n",
       "      <td>2010</td>\n",
       "      <td>4</td>\n",
       "      <td>0.0200</td>\n",
       "      <td>0.0498</td>\n",
       "      <td>0.0281</td>\n",
       "      <td>0.0001</td>\n",
       "      <td>0.101774</td>\n",
       "      <td>0.108647</td>\n",
       "      <td>0.072773</td>\n",
       "      <td>0.055111</td>\n",
       "      <td>0.034785</td>\n",
       "    </tr>\n",
       "    <tr>\n",
       "      <th>202</th>\n",
       "      <td>-0.064629</td>\n",
       "      <td>-0.083818</td>\n",
       "      <td>-0.073840</td>\n",
       "      <td>-0.084716</td>\n",
       "      <td>-0.079742</td>\n",
       "      <td>2010</td>\n",
       "      <td>5</td>\n",
       "      <td>-0.0789</td>\n",
       "      <td>0.0005</td>\n",
       "      <td>-0.0238</td>\n",
       "      <td>0.0001</td>\n",
       "      <td>-0.064729</td>\n",
       "      <td>-0.083918</td>\n",
       "      <td>-0.073940</td>\n",
       "      <td>-0.084816</td>\n",
       "      <td>-0.079842</td>\n",
       "    </tr>\n",
       "    <tr>\n",
       "      <th>203</th>\n",
       "      <td>-0.068146</td>\n",
       "      <td>-0.095096</td>\n",
       "      <td>-0.097639</td>\n",
       "      <td>-0.065821</td>\n",
       "      <td>-0.058019</td>\n",
       "      <td>2010</td>\n",
       "      <td>6</td>\n",
       "      <td>-0.0556</td>\n",
       "      <td>-0.0198</td>\n",
       "      <td>-0.0450</td>\n",
       "      <td>0.0001</td>\n",
       "      <td>-0.068246</td>\n",
       "      <td>-0.095196</td>\n",
       "      <td>-0.097739</td>\n",
       "      <td>-0.065921</td>\n",
       "      <td>-0.058119</td>\n",
       "    </tr>\n",
       "  </tbody>\n",
       "</table>\n",
       "<p>204 rows × 16 columns</p>\n",
       "</div>"
      ],
      "text/plain": [
       "            0         1         2         3         4  year  month   ExMkt  \\\n",
       "0    0.026985  0.038533  0.041173  0.044731  0.037965  1987      7  0.0385   \n",
       "1    0.023139  0.032791  0.027127  0.037693  0.034250  1987      8  0.0352   \n",
       "2   -0.009689 -0.011472 -0.017846 -0.020380 -0.020231  1987      9 -0.0259   \n",
       "3   -0.249682 -0.254192 -0.264913 -0.242824 -0.205500  1987     10 -0.2324   \n",
       "4   -0.028631 -0.029646 -0.036449 -0.044108 -0.056027  1987     11 -0.0777   \n",
       "..        ...       ...       ...       ...       ...   ...    ...     ...   \n",
       "199  0.025364  0.027819  0.050461  0.051990  0.031755  2010      2  0.0340   \n",
       "200  0.075771  0.084026  0.087350  0.073981  0.063763  2010      3  0.0631   \n",
       "201  0.101874  0.108747  0.072873  0.055211  0.034885  2010      4  0.0200   \n",
       "202 -0.064629 -0.083818 -0.073840 -0.084716 -0.079742  2010      5 -0.0789   \n",
       "203 -0.068146 -0.095096 -0.097639 -0.065821 -0.058019  2010      6 -0.0556   \n",
       "\n",
       "        SMB     HML      RF   ExRet_0   ExRet_1   ExRet_2   ExRet_3   ExRet_4  \n",
       "0   -0.0067  0.0066  0.0046  0.022385  0.033933  0.036573  0.040131  0.033365  \n",
       "1   -0.0072 -0.0090  0.0047  0.018439  0.028091  0.022427  0.032993  0.029550  \n",
       "2    0.0052  0.0028  0.0045 -0.014189 -0.015972 -0.022346 -0.024880 -0.024731  \n",
       "3   -0.0843  0.0423  0.0060 -0.255682 -0.260192 -0.270913 -0.248824 -0.211500  \n",
       "4    0.0277  0.0314  0.0035 -0.032131 -0.033146 -0.039949 -0.047608 -0.059527  \n",
       "..      ...     ...     ...       ...       ...       ...       ...       ...  \n",
       "199  0.0121  0.0317  0.0000  0.025364  0.027819  0.050461  0.051990  0.031755  \n",
       "200  0.0143  0.0210  0.0001  0.075671  0.083926  0.087250  0.073881  0.063663  \n",
       "201  0.0498  0.0281  0.0001  0.101774  0.108647  0.072773  0.055111  0.034785  \n",
       "202  0.0005 -0.0238  0.0001 -0.064729 -0.083918 -0.073940 -0.084816 -0.079842  \n",
       "203 -0.0198 -0.0450  0.0001 -0.068246 -0.095196 -0.097739 -0.065921 -0.058119  \n",
       "\n",
       "[204 rows x 16 columns]"
      ]
     },
     "execution_count": 29,
     "metadata": {},
     "output_type": "execute_result"
    }
   ],
   "source": [
    "portfolios_ff"
   ]
  }
 ],
 "metadata": {
  "colab": {
   "collapsed_sections": [],
   "name": "InvestmentStrategy_ew.ipynb",
   "provenance": []
  },
  "interpreter": {
   "hash": "4bf7354a9a62b5a751cc0be7c5d3036e575c74d4eae4fc5c0bbeda953fcfcaab"
  },
  "kernelspec": {
   "display_name": "Python 3 (ipykernel)",
   "language": "python",
   "name": "python3"
  },
  "language_info": {
   "codemirror_mode": {
    "name": "ipython",
    "version": 3
   },
   "file_extension": ".py",
   "mimetype": "text/x-python",
   "name": "python",
   "nbconvert_exporter": "python",
   "pygments_lexer": "ipython3",
   "version": "3.11.5"
  }
 },
 "nbformat": 4,
 "nbformat_minor": 1
}
