{
 "cells": [
  {
   "cell_type": "markdown",
   "metadata": {
    "id": "GffENB45UUIA"
   },
   "source": [
    "##### Investment Strategy\n"
   ]
  },
  {
   "cell_type": "code",
   "execution_count": 1,
   "metadata": {
    "colab": {
     "base_uri": "https://localhost:8080/"
    },
    "id": "8NNUPRSGUUID",
    "outputId": "ab7ba77d-e16c-43f9-a00b-c1a2ce0e88c5"
   },
   "outputs": [],
   "source": [
    "import pandas as pd\n",
    "import numpy as np\n",
    "import time\n",
    "import statsmodels.api as sm\n",
    "from tqdm import tqdm\n",
    "import os\n",
    "\n",
    "# get the absolute path of the notebook file\n",
    "notebook_path = os.path.abspath(\"InvestmentStrategy_Dividend_Yield.ipynb\")\n",
    "# get the directory containing the notebook file\n",
    "path_data = os.path.dirname(notebook_path)"
   ]
  },
  {
   "cell_type": "code",
   "execution_count": 2,
   "metadata": {
    "colab": {
     "base_uri": "https://localhost:8080/"
    },
    "id": "k5usuOWWWGDU",
    "outputId": "e952b6e0-cb3a-471d-858b-eabc92900fde"
   },
   "outputs": [
    {
     "data": {
      "text/plain": [
       "['.ipynb_checkpoints',\n",
       " 'crsp_div.csv',\n",
       " 'CRSP_Dividend.ipynb',\n",
       " 'dividend_yearly.csv',\n",
       " 'F-F_Research_Data_Factors_2018.csv',\n",
       " 'InvestmentStrategy_Dividend_Yield.ipynb']"
      ]
     },
     "execution_count": 2,
     "metadata": {},
     "output_type": "execute_result"
    }
   ],
   "source": [
    "os.listdir(path_data)"
   ]
  },
  {
   "cell_type": "markdown",
   "metadata": {},
   "source": [
    "## Step 1: Preparing the CRSP file"
   ]
  },
  {
   "cell_type": "code",
   "execution_count": 3,
   "metadata": {},
   "outputs": [
    {
     "name": "stdout",
     "output_type": "stream",
     "text": [
      "Prepare CRSP file\n",
      "Completed in 2.2s\n"
     ]
    }
   ],
   "source": [
    "print(\"Prepare CRSP file\")\n",
    "t = time.time() # record the current time, so we can measure how long the code takes to run\n",
    "\n",
    "crsp = pd.read_csv('crsp_div.csv')\n",
    "print('Completed in %.1fs' % (time.time()-t)) # show how long it took to run this code block"
   ]
  },
  {
   "cell_type": "code",
   "execution_count": 4,
   "metadata": {},
   "outputs": [
    {
     "data": {
      "text/html": [
       "<div>\n",
       "<style scoped>\n",
       "    .dataframe tbody tr th:only-of-type {\n",
       "        vertical-align: middle;\n",
       "    }\n",
       "\n",
       "    .dataframe tbody tr th {\n",
       "        vertical-align: top;\n",
       "    }\n",
       "\n",
       "    .dataframe thead th {\n",
       "        text-align: right;\n",
       "    }\n",
       "</style>\n",
       "<table border=\"1\" class=\"dataframe\">\n",
       "  <thead>\n",
       "    <tr style=\"text-align: right;\">\n",
       "      <th></th>\n",
       "      <th>PERMNO</th>\n",
       "      <th>date</th>\n",
       "      <th>SHRCD</th>\n",
       "      <th>EXCHCD</th>\n",
       "      <th>TICKER</th>\n",
       "      <th>COMNAM</th>\n",
       "      <th>PERMCO</th>\n",
       "      <th>PRC</th>\n",
       "      <th>RET</th>\n",
       "      <th>SHROUT</th>\n",
       "      <th>RETX</th>\n",
       "    </tr>\n",
       "  </thead>\n",
       "  <tbody>\n",
       "    <tr>\n",
       "      <th>0</th>\n",
       "      <td>10000</td>\n",
       "      <td>1985-12-31</td>\n",
       "      <td>NaN</td>\n",
       "      <td>NaN</td>\n",
       "      <td>NaN</td>\n",
       "      <td>NaN</td>\n",
       "      <td>7952</td>\n",
       "      <td>NaN</td>\n",
       "      <td>NaN</td>\n",
       "      <td>NaN</td>\n",
       "      <td>NaN</td>\n",
       "    </tr>\n",
       "    <tr>\n",
       "      <th>1</th>\n",
       "      <td>10000</td>\n",
       "      <td>1986-01-31</td>\n",
       "      <td>10.0</td>\n",
       "      <td>3.0</td>\n",
       "      <td>OMFGA</td>\n",
       "      <td>OPTIMUM MANUFACTURING INC</td>\n",
       "      <td>7952</td>\n",
       "      <td>-4.37500</td>\n",
       "      <td>C</td>\n",
       "      <td>3680.0</td>\n",
       "      <td>C</td>\n",
       "    </tr>\n",
       "    <tr>\n",
       "      <th>2</th>\n",
       "      <td>10000</td>\n",
       "      <td>1986-02-28</td>\n",
       "      <td>10.0</td>\n",
       "      <td>3.0</td>\n",
       "      <td>OMFGA</td>\n",
       "      <td>OPTIMUM MANUFACTURING INC</td>\n",
       "      <td>7952</td>\n",
       "      <td>-3.25000</td>\n",
       "      <td>-0.257143</td>\n",
       "      <td>3680.0</td>\n",
       "      <td>-0.257143</td>\n",
       "    </tr>\n",
       "    <tr>\n",
       "      <th>3</th>\n",
       "      <td>10000</td>\n",
       "      <td>1986-03-31</td>\n",
       "      <td>10.0</td>\n",
       "      <td>3.0</td>\n",
       "      <td>OMFGA</td>\n",
       "      <td>OPTIMUM MANUFACTURING INC</td>\n",
       "      <td>7952</td>\n",
       "      <td>-4.43750</td>\n",
       "      <td>0.365385</td>\n",
       "      <td>3680.0</td>\n",
       "      <td>0.365385</td>\n",
       "    </tr>\n",
       "    <tr>\n",
       "      <th>4</th>\n",
       "      <td>10000</td>\n",
       "      <td>1986-04-30</td>\n",
       "      <td>10.0</td>\n",
       "      <td>3.0</td>\n",
       "      <td>OMFGA</td>\n",
       "      <td>OPTIMUM MANUFACTURING INC</td>\n",
       "      <td>7952</td>\n",
       "      <td>-4.00000</td>\n",
       "      <td>-0.098592</td>\n",
       "      <td>3793.0</td>\n",
       "      <td>-0.098592</td>\n",
       "    </tr>\n",
       "    <tr>\n",
       "      <th>5</th>\n",
       "      <td>10000</td>\n",
       "      <td>1986-05-30</td>\n",
       "      <td>10.0</td>\n",
       "      <td>3.0</td>\n",
       "      <td>OMFGA</td>\n",
       "      <td>OPTIMUM MANUFACTURING INC</td>\n",
       "      <td>7952</td>\n",
       "      <td>-3.10938</td>\n",
       "      <td>-0.222656</td>\n",
       "      <td>3793.0</td>\n",
       "      <td>-0.222656</td>\n",
       "    </tr>\n",
       "    <tr>\n",
       "      <th>6</th>\n",
       "      <td>10000</td>\n",
       "      <td>1986-06-30</td>\n",
       "      <td>10.0</td>\n",
       "      <td>3.0</td>\n",
       "      <td>OMFGA</td>\n",
       "      <td>OPTIMUM MANUFACTURING INC</td>\n",
       "      <td>7952</td>\n",
       "      <td>-3.09375</td>\n",
       "      <td>-0.005025</td>\n",
       "      <td>3793.0</td>\n",
       "      <td>-0.005025</td>\n",
       "    </tr>\n",
       "    <tr>\n",
       "      <th>7</th>\n",
       "      <td>10000</td>\n",
       "      <td>1986-07-31</td>\n",
       "      <td>10.0</td>\n",
       "      <td>3.0</td>\n",
       "      <td>OMFGA</td>\n",
       "      <td>OPTIMUM MANUFACTURING INC</td>\n",
       "      <td>7952</td>\n",
       "      <td>-2.84375</td>\n",
       "      <td>-0.080808</td>\n",
       "      <td>3793.0</td>\n",
       "      <td>-0.080808</td>\n",
       "    </tr>\n",
       "    <tr>\n",
       "      <th>8</th>\n",
       "      <td>10000</td>\n",
       "      <td>1986-08-29</td>\n",
       "      <td>10.0</td>\n",
       "      <td>3.0</td>\n",
       "      <td>OMFGA</td>\n",
       "      <td>OPTIMUM MANUFACTURING INC</td>\n",
       "      <td>7952</td>\n",
       "      <td>-1.09375</td>\n",
       "      <td>-0.615385</td>\n",
       "      <td>3793.0</td>\n",
       "      <td>-0.615385</td>\n",
       "    </tr>\n",
       "    <tr>\n",
       "      <th>9</th>\n",
       "      <td>10000</td>\n",
       "      <td>1986-09-30</td>\n",
       "      <td>10.0</td>\n",
       "      <td>3.0</td>\n",
       "      <td>OMFGA</td>\n",
       "      <td>OPTIMUM MANUFACTURING INC</td>\n",
       "      <td>7952</td>\n",
       "      <td>-1.03125</td>\n",
       "      <td>-0.057143</td>\n",
       "      <td>3793.0</td>\n",
       "      <td>-0.057143</td>\n",
       "    </tr>\n",
       "  </tbody>\n",
       "</table>\n",
       "</div>"
      ],
      "text/plain": [
       "   PERMNO        date  SHRCD  EXCHCD TICKER                     COMNAM  \\\n",
       "0   10000  1985-12-31    NaN     NaN    NaN                        NaN   \n",
       "1   10000  1986-01-31   10.0     3.0  OMFGA  OPTIMUM MANUFACTURING INC   \n",
       "2   10000  1986-02-28   10.0     3.0  OMFGA  OPTIMUM MANUFACTURING INC   \n",
       "3   10000  1986-03-31   10.0     3.0  OMFGA  OPTIMUM MANUFACTURING INC   \n",
       "4   10000  1986-04-30   10.0     3.0  OMFGA  OPTIMUM MANUFACTURING INC   \n",
       "5   10000  1986-05-30   10.0     3.0  OMFGA  OPTIMUM MANUFACTURING INC   \n",
       "6   10000  1986-06-30   10.0     3.0  OMFGA  OPTIMUM MANUFACTURING INC   \n",
       "7   10000  1986-07-31   10.0     3.0  OMFGA  OPTIMUM MANUFACTURING INC   \n",
       "8   10000  1986-08-29   10.0     3.0  OMFGA  OPTIMUM MANUFACTURING INC   \n",
       "9   10000  1986-09-30   10.0     3.0  OMFGA  OPTIMUM MANUFACTURING INC   \n",
       "\n",
       "   PERMCO      PRC        RET  SHROUT       RETX  \n",
       "0    7952      NaN        NaN     NaN        NaN  \n",
       "1    7952 -4.37500          C  3680.0          C  \n",
       "2    7952 -3.25000  -0.257143  3680.0  -0.257143  \n",
       "3    7952 -4.43750   0.365385  3680.0   0.365385  \n",
       "4    7952 -4.00000  -0.098592  3793.0  -0.098592  \n",
       "5    7952 -3.10938  -0.222656  3793.0  -0.222656  \n",
       "6    7952 -3.09375  -0.005025  3793.0  -0.005025  \n",
       "7    7952 -2.84375  -0.080808  3793.0  -0.080808  \n",
       "8    7952 -1.09375  -0.615385  3793.0  -0.615385  \n",
       "9    7952 -1.03125  -0.057143  3793.0  -0.057143  "
      ]
     },
     "execution_count": 4,
     "metadata": {},
     "output_type": "execute_result"
    }
   ],
   "source": [
    "crsp.head(10)"
   ]
  },
  {
   "cell_type": "code",
   "execution_count": 5,
   "metadata": {},
   "outputs": [
    {
     "data": {
      "text/plain": [
       "34046"
      ]
     },
     "execution_count": 5,
     "metadata": {},
     "output_type": "execute_result"
    }
   ],
   "source": [
    "sum(crsp['RET'].isna())"
   ]
  },
  {
   "cell_type": "code",
   "execution_count": 6,
   "metadata": {},
   "outputs": [
    {
     "data": {
      "text/plain": [
       "PERMNO      int64\n",
       "date       object\n",
       "SHRCD     float64\n",
       "EXCHCD    float64\n",
       "TICKER     object\n",
       "COMNAM     object\n",
       "PERMCO      int64\n",
       "PRC       float64\n",
       "RET        object\n",
       "SHROUT    float64\n",
       "RETX       object\n",
       "dtype: object"
      ]
     },
     "execution_count": 6,
     "metadata": {},
     "output_type": "execute_result"
    }
   ],
   "source": [
    "crsp.dtypes"
   ]
  },
  {
   "cell_type": "markdown",
   "metadata": {},
   "source": [
    "#### Formatting Data:"
   ]
  },
  {
   "cell_type": "code",
   "execution_count": 7,
   "metadata": {
    "colab": {
     "base_uri": "https://localhost:8080/"
    },
    "id": "tsbqiD7rUUIE",
    "outputId": "6c0b3ef5-5f9b-4951-9f89-b617af54cd51"
   },
   "outputs": [
    {
     "name": "stdout",
     "output_type": "stream",
     "text": [
      "Completed in 12.2s\n"
     ]
    }
   ],
   "source": [
    "### formatting ###\n",
    "# make all variable names lowercase\n",
    "t = time.time()\n",
    "crsp.columns = map(str.lower,crsp.columns)\n",
    "\n",
    "# Changes the returns to number format. Non-numeric data will be NAN\n",
    "crsp['ret'] = pd.to_numeric(crsp['ret'],errors='coerce') \n",
    "\n",
    "# Change the dateformat\n",
    "crsp['date'] = pd.to_datetime(crsp['date'], format='%Y-%m-%d')\n",
    "\n",
    "# Create separate 'year' and 'month' variables (we will use them later to merge CRSP with Compustat)\n",
    "crsp['year'] = crsp['date'].apply(lambda date: date.year)\n",
    "crsp['month'] = crsp['date'].apply(lambda date: date.month)\n",
    "\n",
    "# Calculate market cap\n",
    "crsp['mktcap'] = crsp['shrout'] * crsp['prc'].abs()\n",
    "\n",
    "\n",
    "### Some basic data cleaning ###\n",
    "# keep only common shares\n",
    "crsp = crsp[crsp['shrcd'].isin([10,11])]\n",
    "\n",
    "# keep only stocks from NYSE, AMEX and NASDAQ\n",
    "crsp = crsp[crsp['exchcd'].isin([1,2,3])]\n",
    "\n",
    "#    Drop the duplicates.\n",
    "crsp = crsp.drop_duplicates(subset=['date','permno'])\n",
    "\n",
    "print('Completed in %.1fs' % (time.time()-t)) # show how long it took to run this code block"
   ]
  },
  {
   "cell_type": "markdown",
   "metadata": {},
   "source": [
    "### Step 2: Loading the Dividened_Yield File (Already Prepared in another notebook)"
   ]
  },
  {
   "cell_type": "code",
   "execution_count": 8,
   "metadata": {},
   "outputs": [
    {
     "name": "stdout",
     "output_type": "stream",
     "text": [
      "Prepare dividend_yield file\n",
      "Completed in 0.5s\n"
     ]
    }
   ],
   "source": [
    "print(\"Prepare dividend_yield file\")\n",
    "t = time.time() \n",
    "dv = pd.read_csv('dividend_yearly.csv')\n",
    "print('Completed in %.1fs' % (time.time()-t))"
   ]
  },
  {
   "cell_type": "code",
   "execution_count": 9,
   "metadata": {},
   "outputs": [
    {
     "data": {
      "text/plain": [
       "140899"
      ]
     },
     "execution_count": 9,
     "metadata": {},
     "output_type": "execute_result"
    }
   ],
   "source": [
    "len(dv)"
   ]
  },
  {
   "cell_type": "code",
   "execution_count": 10,
   "metadata": {},
   "outputs": [
    {
     "data": {
      "text/html": [
       "<div>\n",
       "<style scoped>\n",
       "    .dataframe tbody tr th:only-of-type {\n",
       "        vertical-align: middle;\n",
       "    }\n",
       "\n",
       "    .dataframe tbody tr th {\n",
       "        vertical-align: top;\n",
       "    }\n",
       "\n",
       "    .dataframe thead th {\n",
       "        text-align: right;\n",
       "    }\n",
       "</style>\n",
       "<table border=\"1\" class=\"dataframe\">\n",
       "  <thead>\n",
       "    <tr style=\"text-align: right;\">\n",
       "      <th></th>\n",
       "      <th>PERMNO</th>\n",
       "      <th>SHRCD</th>\n",
       "      <th>EXCHCD</th>\n",
       "      <th>TICKER</th>\n",
       "      <th>COMNAM</th>\n",
       "      <th>PERMCO</th>\n",
       "      <th>PRC</th>\n",
       "      <th>SHROUT</th>\n",
       "      <th>date</th>\n",
       "      <th>MARKET_CAP</th>\n",
       "      <th>DVY_M</th>\n",
       "      <th>DVY_A</th>\n",
       "    </tr>\n",
       "  </thead>\n",
       "  <tbody>\n",
       "    <tr>\n",
       "      <th>0</th>\n",
       "      <td>10000</td>\n",
       "      <td>10.0</td>\n",
       "      <td>3.0</td>\n",
       "      <td>OMFGA</td>\n",
       "      <td>OPTIMUM MANUFACTURING INC</td>\n",
       "      <td>7952</td>\n",
       "      <td>-3.09375</td>\n",
       "      <td>3793.0</td>\n",
       "      <td>1986-06-30</td>\n",
       "      <td>11734.59375</td>\n",
       "      <td>0.000000</td>\n",
       "      <td>0.000000</td>\n",
       "    </tr>\n",
       "    <tr>\n",
       "      <th>1</th>\n",
       "      <td>10000</td>\n",
       "      <td>10.0</td>\n",
       "      <td>3.0</td>\n",
       "      <td>OMFGA</td>\n",
       "      <td>OPTIMUM MANUFACTURING INC</td>\n",
       "      <td>7952</td>\n",
       "      <td>NaN</td>\n",
       "      <td>3893.0</td>\n",
       "      <td>1987-06-30</td>\n",
       "      <td>NaN</td>\n",
       "      <td>0.000000</td>\n",
       "      <td>NaN</td>\n",
       "    </tr>\n",
       "    <tr>\n",
       "      <th>2</th>\n",
       "      <td>10001</td>\n",
       "      <td>11.0</td>\n",
       "      <td>3.0</td>\n",
       "      <td>GFGC</td>\n",
       "      <td>GREAT FALLS GAS CO</td>\n",
       "      <td>7953</td>\n",
       "      <td>-6.12500</td>\n",
       "      <td>985.0</td>\n",
       "      <td>1986-06-30</td>\n",
       "      <td>6033.12500</td>\n",
       "      <td>194.865751</td>\n",
       "      <td>0.032299</td>\n",
       "    </tr>\n",
       "    <tr>\n",
       "      <th>3</th>\n",
       "      <td>10001</td>\n",
       "      <td>11.0</td>\n",
       "      <td>3.0</td>\n",
       "      <td>GFGC</td>\n",
       "      <td>GREAT FALLS GAS CO</td>\n",
       "      <td>7953</td>\n",
       "      <td>5.87500</td>\n",
       "      <td>991.0</td>\n",
       "      <td>1987-06-30</td>\n",
       "      <td>5822.12500</td>\n",
       "      <td>419.734086</td>\n",
       "      <td>0.072093</td>\n",
       "    </tr>\n",
       "    <tr>\n",
       "      <th>4</th>\n",
       "      <td>10001</td>\n",
       "      <td>11.0</td>\n",
       "      <td>3.0</td>\n",
       "      <td>GFGC</td>\n",
       "      <td>GREAT FALLS GAS CO</td>\n",
       "      <td>7953</td>\n",
       "      <td>6.25000</td>\n",
       "      <td>992.0</td>\n",
       "      <td>1988-06-30</td>\n",
       "      <td>6200.00000</td>\n",
       "      <td>404.015932</td>\n",
       "      <td>0.065164</td>\n",
       "    </tr>\n",
       "  </tbody>\n",
       "</table>\n",
       "</div>"
      ],
      "text/plain": [
       "   PERMNO  SHRCD  EXCHCD TICKER                     COMNAM  PERMCO      PRC  \\\n",
       "0   10000   10.0     3.0  OMFGA  OPTIMUM MANUFACTURING INC    7952 -3.09375   \n",
       "1   10000   10.0     3.0  OMFGA  OPTIMUM MANUFACTURING INC    7952      NaN   \n",
       "2   10001   11.0     3.0   GFGC         GREAT FALLS GAS CO    7953 -6.12500   \n",
       "3   10001   11.0     3.0   GFGC         GREAT FALLS GAS CO    7953  5.87500   \n",
       "4   10001   11.0     3.0   GFGC         GREAT FALLS GAS CO    7953  6.25000   \n",
       "\n",
       "   SHROUT        date   MARKET_CAP       DVY_M     DVY_A  \n",
       "0  3793.0  1986-06-30  11734.59375    0.000000  0.000000  \n",
       "1  3893.0  1987-06-30          NaN    0.000000       NaN  \n",
       "2   985.0  1986-06-30   6033.12500  194.865751  0.032299  \n",
       "3   991.0  1987-06-30   5822.12500  419.734086  0.072093  \n",
       "4   992.0  1988-06-30   6200.00000  404.015932  0.065164  "
      ]
     },
     "execution_count": 10,
     "metadata": {},
     "output_type": "execute_result"
    }
   ],
   "source": [
    "dv=dv.drop('Unnamed: 0',axis=1)\n",
    "dv.head()"
   ]
  },
  {
   "cell_type": "code",
   "execution_count": 11,
   "metadata": {},
   "outputs": [
    {
     "data": {
      "text/plain": [
       "2378"
      ]
     },
     "execution_count": 11,
     "metadata": {},
     "output_type": "execute_result"
    }
   ],
   "source": [
    "sum(dv['DVY_A'].isna())"
   ]
  },
  {
   "cell_type": "markdown",
   "metadata": {},
   "source": [
    "We get rid of the NaN values for dividend yield."
   ]
  },
  {
   "cell_type": "code",
   "execution_count": 12,
   "metadata": {},
   "outputs": [],
   "source": [
    "dv=dv[~dv['DVY_A'].isna()]"
   ]
  },
  {
   "cell_type": "code",
   "execution_count": 13,
   "metadata": {},
   "outputs": [
    {
     "data": {
      "text/plain": [
       "0.5623335089986355"
      ]
     },
     "execution_count": 13,
     "metadata": {},
     "output_type": "execute_result"
    }
   ],
   "source": [
    "sum(dv['DVY_A']==0)/len(dv)"
   ]
  },
  {
   "cell_type": "markdown",
   "metadata": {},
   "source": [
    "56% of the rows have 0 dividend yield. We will put them into a separate portfolio and leave those with positive dividend yield to build five portfolios."
   ]
  },
  {
   "cell_type": "code",
   "execution_count": 14,
   "metadata": {},
   "outputs": [],
   "source": [
    "dv_0=dv[dv['DVY_A']==0].reset_index(drop=True)"
   ]
  },
  {
   "cell_type": "code",
   "execution_count": 15,
   "metadata": {},
   "outputs": [],
   "source": [
    "dv=dv[dv['DVY_A']>0].reset_index(drop=True)"
   ]
  },
  {
   "cell_type": "markdown",
   "metadata": {},
   "source": [
    "#### Formatting:"
   ]
  },
  {
   "cell_type": "code",
   "execution_count": 16,
   "metadata": {},
   "outputs": [
    {
     "name": "stdout",
     "output_type": "stream",
     "text": [
      "Completed in 0.2s\n"
     ]
    }
   ],
   "source": [
    "#For dv dataframe\n",
    "t = time.time() \n",
    "\n",
    "dv.columns = map(str.lower,dv.columns)\n",
    "\n",
    "# Change the dateformat \n",
    "dv['date'] = pd.to_datetime(dv['date'])\n",
    "\n",
    "# Create separate 'year' and 'month' variables\n",
    "dv['year'] = dv['date'].apply(lambda x: x.year)\n",
    "dv['month'] = dv['date'].apply(lambda x: x.month)\n",
    "\n",
    "print('Completed in %.1fs' % (time.time()-t))"
   ]
  },
  {
   "cell_type": "code",
   "execution_count": 17,
   "metadata": {},
   "outputs": [
    {
     "name": "stdout",
     "output_type": "stream",
     "text": [
      "Completed in 0.3s\n"
     ]
    }
   ],
   "source": [
    "#For dv_0 dataframe\n",
    "t = time.time() \n",
    "\n",
    "dv_0.columns = map(str.lower,dv_0.columns)\n",
    "\n",
    "# Change the dateformat \n",
    "dv_0['date'] = pd.to_datetime(dv_0['date'])\n",
    "\n",
    "# Create separate 'year' and 'month' variables\n",
    "dv_0['year'] = dv_0['date'].apply(lambda x: x.year)\n",
    "dv_0['month'] = dv_0['date'].apply(lambda x: x.month)\n",
    "\n",
    "print('Completed in %.1fs' % (time.time()-t))"
   ]
  },
  {
   "cell_type": "markdown",
   "metadata": {},
   "source": [
    "### Step 3: Sort stocks into portfolios and calculate returns"
   ]
  },
  {
   "cell_type": "code",
   "execution_count": 18,
   "metadata": {},
   "outputs": [
    {
     "data": {
      "text/plain": [
       "9421"
      ]
     },
     "execution_count": 18,
     "metadata": {},
     "output_type": "execute_result"
    }
   ],
   "source": [
    "len(dv['permno'].unique())"
   ]
  },
  {
   "cell_type": "code",
   "execution_count": 19,
   "metadata": {},
   "outputs": [
    {
     "data": {
      "text/html": [
       "<div>\n",
       "<style scoped>\n",
       "    .dataframe tbody tr th:only-of-type {\n",
       "        vertical-align: middle;\n",
       "    }\n",
       "\n",
       "    .dataframe tbody tr th {\n",
       "        vertical-align: top;\n",
       "    }\n",
       "\n",
       "    .dataframe thead th {\n",
       "        text-align: right;\n",
       "    }\n",
       "</style>\n",
       "<table border=\"1\" class=\"dataframe\">\n",
       "  <thead>\n",
       "    <tr style=\"text-align: right;\">\n",
       "      <th></th>\n",
       "      <th>permno</th>\n",
       "      <th>shrcd</th>\n",
       "      <th>exchcd</th>\n",
       "      <th>ticker</th>\n",
       "      <th>comnam</th>\n",
       "      <th>permco</th>\n",
       "      <th>prc</th>\n",
       "      <th>shrout</th>\n",
       "      <th>date</th>\n",
       "      <th>market_cap</th>\n",
       "      <th>dvy_m</th>\n",
       "      <th>dvy_a</th>\n",
       "      <th>year</th>\n",
       "      <th>month</th>\n",
       "    </tr>\n",
       "  </thead>\n",
       "  <tbody>\n",
       "    <tr>\n",
       "      <th>0</th>\n",
       "      <td>10000</td>\n",
       "      <td>10.0</td>\n",
       "      <td>3.0</td>\n",
       "      <td>OMFGA</td>\n",
       "      <td>OPTIMUM MANUFACTURING INC</td>\n",
       "      <td>7952</td>\n",
       "      <td>-3.09375</td>\n",
       "      <td>3793.0</td>\n",
       "      <td>1986-06-30</td>\n",
       "      <td>11734.59375</td>\n",
       "      <td>0.0</td>\n",
       "      <td>0.0</td>\n",
       "      <td>1986</td>\n",
       "      <td>6</td>\n",
       "    </tr>\n",
       "    <tr>\n",
       "      <th>1</th>\n",
       "      <td>10001</td>\n",
       "      <td>11.0</td>\n",
       "      <td>3.0</td>\n",
       "      <td>EWST</td>\n",
       "      <td>ENERGY WEST INC</td>\n",
       "      <td>7953</td>\n",
       "      <td>6.66000</td>\n",
       "      <td>2599.0</td>\n",
       "      <td>2004-06-30</td>\n",
       "      <td>17309.34000</td>\n",
       "      <td>0.0</td>\n",
       "      <td>0.0</td>\n",
       "      <td>2004</td>\n",
       "      <td>6</td>\n",
       "    </tr>\n",
       "    <tr>\n",
       "      <th>2</th>\n",
       "      <td>10001</td>\n",
       "      <td>11.0</td>\n",
       "      <td>3.0</td>\n",
       "      <td>EWST</td>\n",
       "      <td>ENERGY WEST INC</td>\n",
       "      <td>7953</td>\n",
       "      <td>9.05000</td>\n",
       "      <td>2913.0</td>\n",
       "      <td>2005-06-30</td>\n",
       "      <td>26362.65000</td>\n",
       "      <td>0.0</td>\n",
       "      <td>0.0</td>\n",
       "      <td>2005</td>\n",
       "      <td>6</td>\n",
       "    </tr>\n",
       "    <tr>\n",
       "      <th>3</th>\n",
       "      <td>10002</td>\n",
       "      <td>10.0</td>\n",
       "      <td>3.0</td>\n",
       "      <td>MBNC</td>\n",
       "      <td>MOBILE NATIONAL CORP</td>\n",
       "      <td>7954</td>\n",
       "      <td>-12.68750</td>\n",
       "      <td>1175.0</td>\n",
       "      <td>1986-06-30</td>\n",
       "      <td>14907.81250</td>\n",
       "      <td>0.0</td>\n",
       "      <td>0.0</td>\n",
       "      <td>1986</td>\n",
       "      <td>6</td>\n",
       "    </tr>\n",
       "    <tr>\n",
       "      <th>4</th>\n",
       "      <td>10002</td>\n",
       "      <td>10.0</td>\n",
       "      <td>3.0</td>\n",
       "      <td>MBNC</td>\n",
       "      <td>MOBILE NATIONAL CORP</td>\n",
       "      <td>7954</td>\n",
       "      <td>-13.50000</td>\n",
       "      <td>1175.0</td>\n",
       "      <td>1987-06-30</td>\n",
       "      <td>15862.50000</td>\n",
       "      <td>0.0</td>\n",
       "      <td>0.0</td>\n",
       "      <td>1987</td>\n",
       "      <td>6</td>\n",
       "    </tr>\n",
       "  </tbody>\n",
       "</table>\n",
       "</div>"
      ],
      "text/plain": [
       "   permno  shrcd  exchcd ticker                     comnam  permco       prc  \\\n",
       "0   10000   10.0     3.0  OMFGA  OPTIMUM MANUFACTURING INC    7952  -3.09375   \n",
       "1   10001   11.0     3.0   EWST            ENERGY WEST INC    7953   6.66000   \n",
       "2   10001   11.0     3.0   EWST            ENERGY WEST INC    7953   9.05000   \n",
       "3   10002   10.0     3.0   MBNC       MOBILE NATIONAL CORP    7954 -12.68750   \n",
       "4   10002   10.0     3.0   MBNC       MOBILE NATIONAL CORP    7954 -13.50000   \n",
       "\n",
       "   shrout       date   market_cap  dvy_m  dvy_a  year  month  \n",
       "0  3793.0 1986-06-30  11734.59375    0.0    0.0  1986      6  \n",
       "1  2599.0 2004-06-30  17309.34000    0.0    0.0  2004      6  \n",
       "2  2913.0 2005-06-30  26362.65000    0.0    0.0  2005      6  \n",
       "3  1175.0 1986-06-30  14907.81250    0.0    0.0  1986      6  \n",
       "4  1175.0 1987-06-30  15862.50000    0.0    0.0  1987      6  "
      ]
     },
     "execution_count": 19,
     "metadata": {},
     "output_type": "execute_result"
    }
   ],
   "source": [
    "dv_0.head()"
   ]
  },
  {
   "cell_type": "markdown",
   "metadata": {},
   "source": [
    "## Univariate sorting by dividend yield"
   ]
  },
  {
   "cell_type": "code",
   "execution_count": 20,
   "metadata": {
    "colab": {
     "base_uri": "https://localhost:8080/"
    },
    "id": "85bfBpoyUUIF",
    "outputId": "5ff09319-e00d-486c-bb70-801325ffba6c"
   },
   "outputs": [
    {
     "name": "stdout",
     "output_type": "stream",
     "text": [
      "Create portfolios\n"
     ]
    },
    {
     "name": "stderr",
     "output_type": "stream",
     "text": [
      "years:   0%|                                                                                    | 0/32 [00:00<?, ?it/s]C:\\Users\\hongt\\anaconda3\\Lib\\site-packages\\numpy\\lib\\function_base.py:4573: RuntimeWarning: invalid value encountered in subtract\n",
      "  diff_b_a = subtract(b, a)\n",
      "years:   9%|███████▏                                                                    | 3/32 [00:01<00:18,  1.54it/s]C:\\Users\\hongt\\anaconda3\\Lib\\site-packages\\numpy\\lib\\function_base.py:4573: RuntimeWarning: invalid value encountered in subtract\n",
      "  diff_b_a = subtract(b, a)\n",
      "years:  12%|█████████▌                                                                  | 4/32 [00:02<00:13,  2.10it/s]C:\\Users\\hongt\\anaconda3\\Lib\\site-packages\\numpy\\lib\\function_base.py:4573: RuntimeWarning: invalid value encountered in subtract\n",
      "  diff_b_a = subtract(b, a)\n",
      "years:  16%|███████████▉                                                                | 5/32 [00:02<00:09,  2.74it/s]C:\\Users\\hongt\\anaconda3\\Lib\\site-packages\\numpy\\lib\\function_base.py:4573: RuntimeWarning: invalid value encountered in subtract\n",
      "  diff_b_a = subtract(b, a)\n",
      "years:  19%|██████████████▎                                                             | 6/32 [00:02<00:08,  3.09it/s]C:\\Users\\hongt\\anaconda3\\Lib\\site-packages\\numpy\\lib\\function_base.py:4573: RuntimeWarning: invalid value encountered in subtract\n",
      "  diff_b_a = subtract(b, a)\n",
      "years: 100%|███████████████████████████████████████████████████████████████████████████| 32/32 [00:04<00:00,  6.73it/s]"
     ]
    },
    {
     "name": "stdout",
     "output_type": "stream",
     "text": [
      "Step 3 completed in 4.8s\n"
     ]
    },
    {
     "name": "stderr",
     "output_type": "stream",
     "text": [
      "\n"
     ]
    }
   ],
   "source": [
    "#Create 5 portfolios based on dv dataframe (companies with positive dividend yield)\n",
    "print(\"Create portfolios\")\n",
    "t = time.time() # reset our timer\n",
    "\n",
    "# loop over all years in the data\n",
    "portfolios = [] # create an empty list to collect the portfolio returns\n",
    "for year in tqdm(range(1985,2017),desc=\"years\"):\n",
    "    # take the companies that were alive at t-1\n",
    "    permno_list=list(dv[dv['year']==year-1]['permno'].unique()) \n",
    "    \n",
    "    # get the sorting variable for these companies at t-1\n",
    "    sorting_data = dv.loc[(dv['year']==(year-1)) & \\\n",
    "                           (dv['permno'].isin(permno_list)), \\\n",
    "                           ['permno','permco','dvy_a']]\n",
    "    \n",
    "    if(len(sorting_data)==0):\n",
    "        continue\n",
    "    \n",
    "    # sort into 5 baskets by annual dividend yield\n",
    "    nportfolios = 4 # number of portfolios\n",
    "    sorting_data['rank'] = pd.qcut(sorting_data['dvy_a'],nportfolios, labels=False)#, precision=4)\n",
    "    \n",
    "    # select the return data with some time lag to make sure that the accounting information is public (data from July at year t to June in year t+1)\n",
    "    crsp_window = crsp[((crsp['year']==year) & (crsp['month']>=6)) | \\\n",
    "                       ((crsp['year']==year+1) & (crsp['month']<=6))]\n",
    "    \n",
    "    # create the portfolio returns for the current window and collect them in portfolios_window\n",
    "    portfolios_window = [] \n",
    "    for p in range(nportfolios):\n",
    "        # get list of permnos that are in this portfolio\n",
    "        basket = sorting_data.loc[sorting_data['rank'] == p,'permno'].tolist()\n",
    "        \n",
    "        # get returns of these permnos\n",
    "        crsp_p_firms = crsp_window[crsp_window['permno'].isin(basket)]\n",
    "        \n",
    "        # pivot returns\n",
    "        returns = crsp_p_firms.pivot(index='date', columns='permno', values='ret')\n",
    "        returns = returns.iloc[1:,:] # drop the first row\n",
    "        \n",
    "        # create equally weighted portfolio (monthly rebalancing)\n",
    "        return_port = returns.mean(axis=1)\n",
    "        return_port.name = str(p)\n",
    "        \n",
    "        # collect portfolio returns in dec_port\n",
    "        portfolios_window += [return_port]\n",
    "        \n",
    "    # merge the portfolios\n",
    "    portfolios_window = pd.concat(portfolios_window,axis=1)\n",
    "        \n",
    "    # collect results in portfolios\n",
    "    portfolios += [portfolios_window]\n",
    "\n",
    "# merge the returns from all windows\n",
    "portfolios = pd.concat(portfolios,axis=0)\n",
    "\n",
    "print('Step 3 completed in %.1fs' % (time.time()-t)) # show how long it took to run this code block"
   ]
  },
  {
   "cell_type": "code",
   "execution_count": 21,
   "metadata": {},
   "outputs": [
    {
     "data": {
      "text/html": [
       "<div>\n",
       "<style scoped>\n",
       "    .dataframe tbody tr th:only-of-type {\n",
       "        vertical-align: middle;\n",
       "    }\n",
       "\n",
       "    .dataframe tbody tr th {\n",
       "        vertical-align: top;\n",
       "    }\n",
       "\n",
       "    .dataframe thead th {\n",
       "        text-align: right;\n",
       "    }\n",
       "</style>\n",
       "<table border=\"1\" class=\"dataframe\">\n",
       "  <thead>\n",
       "    <tr style=\"text-align: right;\">\n",
       "      <th></th>\n",
       "      <th>0</th>\n",
       "      <th>1</th>\n",
       "      <th>2</th>\n",
       "      <th>3</th>\n",
       "      <th>4</th>\n",
       "    </tr>\n",
       "    <tr>\n",
       "      <th>date</th>\n",
       "      <th></th>\n",
       "      <th></th>\n",
       "      <th></th>\n",
       "      <th></th>\n",
       "      <th></th>\n",
       "    </tr>\n",
       "  </thead>\n",
       "  <tbody>\n",
       "    <tr>\n",
       "      <th>1987-07-31</th>\n",
       "      <td>0.038191</td>\n",
       "      <td>0.040972</td>\n",
       "      <td>0.042870</td>\n",
       "      <td>0.021221</td>\n",
       "      <td>-0.016970</td>\n",
       "    </tr>\n",
       "    <tr>\n",
       "      <th>1987-08-31</th>\n",
       "      <td>0.029609</td>\n",
       "      <td>0.032789</td>\n",
       "      <td>0.035770</td>\n",
       "      <td>0.026213</td>\n",
       "      <td>-0.003396</td>\n",
       "    </tr>\n",
       "    <tr>\n",
       "      <th>1987-09-30</th>\n",
       "      <td>-0.026768</td>\n",
       "      <td>-0.018685</td>\n",
       "      <td>-0.006135</td>\n",
       "      <td>-0.012750</td>\n",
       "      <td>0.014018</td>\n",
       "    </tr>\n",
       "    <tr>\n",
       "      <th>1987-10-30</th>\n",
       "      <td>-0.272076</td>\n",
       "      <td>-0.251540</td>\n",
       "      <td>-0.246018</td>\n",
       "      <td>-0.177002</td>\n",
       "      <td>0.095075</td>\n",
       "    </tr>\n",
       "    <tr>\n",
       "      <th>1987-11-30</th>\n",
       "      <td>-0.052665</td>\n",
       "      <td>-0.046193</td>\n",
       "      <td>-0.034254</td>\n",
       "      <td>-0.020470</td>\n",
       "      <td>0.032195</td>\n",
       "    </tr>\n",
       "    <tr>\n",
       "      <th>...</th>\n",
       "      <td>...</td>\n",
       "      <td>...</td>\n",
       "      <td>...</td>\n",
       "      <td>...</td>\n",
       "      <td>...</td>\n",
       "    </tr>\n",
       "    <tr>\n",
       "      <th>2010-02-26</th>\n",
       "      <td>0.047873</td>\n",
       "      <td>0.035243</td>\n",
       "      <td>0.007620</td>\n",
       "      <td>0.041849</td>\n",
       "      <td>-0.006024</td>\n",
       "    </tr>\n",
       "    <tr>\n",
       "      <th>2010-03-31</th>\n",
       "      <td>0.070751</td>\n",
       "      <td>0.083484</td>\n",
       "      <td>0.088512</td>\n",
       "      <td>0.043454</td>\n",
       "      <td>-0.027298</td>\n",
       "    </tr>\n",
       "    <tr>\n",
       "      <th>2010-04-30</th>\n",
       "      <td>0.055061</td>\n",
       "      <td>0.076558</td>\n",
       "      <td>0.120142</td>\n",
       "      <td>0.163848</td>\n",
       "      <td>0.108787</td>\n",
       "    </tr>\n",
       "    <tr>\n",
       "      <th>2010-05-28</th>\n",
       "      <td>-0.074922</td>\n",
       "      <td>-0.069378</td>\n",
       "      <td>-0.091771</td>\n",
       "      <td>-0.108239</td>\n",
       "      <td>-0.033317</td>\n",
       "    </tr>\n",
       "    <tr>\n",
       "      <th>2010-06-30</th>\n",
       "      <td>-0.067309</td>\n",
       "      <td>-0.070857</td>\n",
       "      <td>-0.114305</td>\n",
       "      <td>-0.093336</td>\n",
       "      <td>-0.026027</td>\n",
       "    </tr>\n",
       "  </tbody>\n",
       "</table>\n",
       "<p>204 rows × 5 columns</p>\n",
       "</div>"
      ],
      "text/plain": [
       "                   0         1         2         3         4\n",
       "date                                                        \n",
       "1987-07-31  0.038191  0.040972  0.042870  0.021221 -0.016970\n",
       "1987-08-31  0.029609  0.032789  0.035770  0.026213 -0.003396\n",
       "1987-09-30 -0.026768 -0.018685 -0.006135 -0.012750  0.014018\n",
       "1987-10-30 -0.272076 -0.251540 -0.246018 -0.177002  0.095075\n",
       "1987-11-30 -0.052665 -0.046193 -0.034254 -0.020470  0.032195\n",
       "...              ...       ...       ...       ...       ...\n",
       "2010-02-26  0.047873  0.035243  0.007620  0.041849 -0.006024\n",
       "2010-03-31  0.070751  0.083484  0.088512  0.043454 -0.027298\n",
       "2010-04-30  0.055061  0.076558  0.120142  0.163848  0.108787\n",
       "2010-05-28 -0.074922 -0.069378 -0.091771 -0.108239 -0.033317\n",
       "2010-06-30 -0.067309 -0.070857 -0.114305 -0.093336 -0.026027\n",
       "\n",
       "[204 rows x 5 columns]"
      ]
     },
     "execution_count": 21,
     "metadata": {},
     "output_type": "execute_result"
    }
   ],
   "source": [
    "#Create long-short portfolio\n",
    "portfolios['4']=portfolios['3']-portfolios['0']\n",
    "portfolios"
   ]
  },
  {
   "cell_type": "code",
   "execution_count": 22,
   "metadata": {},
   "outputs": [
    {
     "name": "stdout",
     "output_type": "stream",
     "text": [
      "Create portfolios\n"
     ]
    },
    {
     "name": "stderr",
     "output_type": "stream",
     "text": [
      "years:   0%|                                                                                    | 0/32 [00:00<?, ?it/s]C:\\Users\\hongt\\anaconda3\\Lib\\site-packages\\numpy\\lib\\function_base.py:4573: RuntimeWarning: invalid value encountered in subtract\n",
      "  diff_b_a = subtract(b, a)\n",
      "years:   9%|███████▏                                                                    | 3/32 [00:00<00:01, 23.47it/s]C:\\Users\\hongt\\anaconda3\\Lib\\site-packages\\numpy\\lib\\function_base.py:4573: RuntimeWarning: invalid value encountered in subtract\n",
      "  diff_b_a = subtract(b, a)\n",
      "C:\\Users\\hongt\\anaconda3\\Lib\\site-packages\\numpy\\lib\\function_base.py:4573: RuntimeWarning: invalid value encountered in subtract\n",
      "  diff_b_a = subtract(b, a)\n",
      "C:\\Users\\hongt\\anaconda3\\Lib\\site-packages\\numpy\\lib\\function_base.py:4573: RuntimeWarning: invalid value encountered in subtract\n",
      "  diff_b_a = subtract(b, a)\n",
      "years:  19%|██████████████▎                                                             | 6/32 [00:00<00:01, 13.43it/s]C:\\Users\\hongt\\anaconda3\\Lib\\site-packages\\numpy\\lib\\function_base.py:4573: RuntimeWarning: invalid value encountered in subtract\n",
      "  diff_b_a = subtract(b, a)\n",
      "years:  28%|█████████████████████▍                                                      | 9/32 [00:00<00:01, 16.78it/s]C:\\Users\\hongt\\anaconda3\\Lib\\site-packages\\numpy\\lib\\function_base.py:4573: RuntimeWarning: invalid value encountered in subtract\n",
      "  diff_b_a = subtract(b, a)\n",
      "C:\\Users\\hongt\\anaconda3\\Lib\\site-packages\\numpy\\lib\\function_base.py:4573: RuntimeWarning: invalid value encountered in subtract\n",
      "  diff_b_a = subtract(b, a)\n",
      "years:  34%|█████████████████████████▊                                                 | 11/32 [00:00<00:01, 13.01it/s]C:\\Users\\hongt\\anaconda3\\Lib\\site-packages\\numpy\\lib\\function_base.py:4573: RuntimeWarning: invalid value encountered in subtract\n",
      "  diff_b_a = subtract(b, a)\n",
      "years:  41%|██████████████████████████████▍                                            | 13/32 [00:00<00:01, 13.71it/s]C:\\Users\\hongt\\anaconda3\\Lib\\site-packages\\numpy\\lib\\function_base.py:4573: RuntimeWarning: invalid value encountered in subtract\n",
      "  diff_b_a = subtract(b, a)\n",
      "C:\\Users\\hongt\\anaconda3\\Lib\\site-packages\\numpy\\lib\\function_base.py:4573: RuntimeWarning: invalid value encountered in subtract\n",
      "  diff_b_a = subtract(b, a)\n",
      "years:  47%|███████████████████████████████████▏                                       | 15/32 [00:01<00:01, 11.30it/s]C:\\Users\\hongt\\anaconda3\\Lib\\site-packages\\numpy\\lib\\function_base.py:4573: RuntimeWarning: invalid value encountered in subtract\n",
      "  diff_b_a = subtract(b, a)\n",
      "C:\\Users\\hongt\\anaconda3\\Lib\\site-packages\\numpy\\lib\\function_base.py:4573: RuntimeWarning: invalid value encountered in subtract\n",
      "  diff_b_a = subtract(b, a)\n",
      "years:  53%|███████████████████████████████████████▊                                   | 17/32 [00:01<00:01, 10.43it/s]C:\\Users\\hongt\\anaconda3\\Lib\\site-packages\\numpy\\lib\\function_base.py:4573: RuntimeWarning: invalid value encountered in subtract\n",
      "  diff_b_a = subtract(b, a)\n",
      "years:  62%|██████████████████████████████████████████████▉                            | 20/32 [00:01<00:00, 13.87it/s]C:\\Users\\hongt\\anaconda3\\Lib\\site-packages\\numpy\\lib\\function_base.py:4573: RuntimeWarning: invalid value encountered in subtract\n",
      "  diff_b_a = subtract(b, a)\n",
      "C:\\Users\\hongt\\anaconda3\\Lib\\site-packages\\numpy\\lib\\function_base.py:4573: RuntimeWarning: invalid value encountered in subtract\n",
      "  diff_b_a = subtract(b, a)\n",
      "years:  69%|███████████████████████████████████████████████████▌                       | 22/32 [00:01<00:00, 13.53it/s]C:\\Users\\hongt\\anaconda3\\Lib\\site-packages\\numpy\\lib\\function_base.py:4573: RuntimeWarning: invalid value encountered in subtract\n",
      "  diff_b_a = subtract(b, a)\n",
      "C:\\Users\\hongt\\anaconda3\\Lib\\site-packages\\numpy\\lib\\function_base.py:4573: RuntimeWarning: invalid value encountered in subtract\n",
      "  diff_b_a = subtract(b, a)\n",
      "years:  78%|██████████████████████████████████████████████████████████▌                | 25/32 [00:01<00:00, 14.91it/s]C:\\Users\\hongt\\anaconda3\\Lib\\site-packages\\numpy\\lib\\function_base.py:4573: RuntimeWarning: invalid value encountered in subtract\n",
      "  diff_b_a = subtract(b, a)\n",
      "C:\\Users\\hongt\\anaconda3\\Lib\\site-packages\\numpy\\lib\\function_base.py:4573: RuntimeWarning: invalid value encountered in subtract\n",
      "  diff_b_a = subtract(b, a)\n",
      "years: 100%|███████████████████████████████████████████████████████████████████████████| 32/32 [00:01<00:00, 16.31it/s]"
     ]
    },
    {
     "name": "stdout",
     "output_type": "stream",
     "text": [
      "Step 3 completed in 2.0s\n"
     ]
    },
    {
     "name": "stderr",
     "output_type": "stream",
     "text": [
      "\n"
     ]
    }
   ],
   "source": [
    "#Create 5 portfolios based on dv dataframe (companies with dividend yield = 0)\n",
    "print(\"Create portfolios\")\n",
    "t = time.time() # reset our timer\n",
    "\n",
    "# loop over all years in the data\n",
    "portfolios_0 = [] # create an empty list to collect the portfolio returns\n",
    "for year in tqdm(range(1985,2017),desc=\"years\"):\n",
    "    # take the companies that were alive at t-1\n",
    "    permno_list=list(dv_0[dv_0['year']==year-1]['permno'].unique()) \n",
    "    \n",
    "    # get the sorting variable for these companies at t-1\n",
    "    sorting_data = dv.loc[(dv_0['year']==(year-1)) & \\\n",
    "                           (dv_0['permno'].isin(permno_list)), \\\n",
    "                           ['permno','permco','dvy_a']]\n",
    "    \n",
    "    if(len(sorting_data)==0):\n",
    "        continue\n",
    "    \n",
    "    # Create 1 portfolio with all companies with annual dividend yield = 0\n",
    "    nportfolios = 1 # number of portfolios\n",
    "    sorting_data['rank'] = pd.qcut(sorting_data['dvy_a'],nportfolios, labels=False)#, precision=4)\n",
    "    \n",
    "    # select the return data with some time lag to make sure that the accounting information is public (data from July at year t to June in year t+1)\n",
    "    crsp_window = crsp[((crsp['year']==year) & (crsp['month']>=6)) | \\\n",
    "                       ((crsp['year']==year+1) & (crsp['month']<=6))]\n",
    "    \n",
    "    # create the portfolio returns for the current window and collect them in portfolios_window\n",
    "    portfolios_window = [] \n",
    "    for p in range(nportfolios):\n",
    "        # get list of permnos that are in this portfolio\n",
    "        basket = sorting_data.loc[sorting_data['rank'] == p,'permno'].tolist()\n",
    "        \n",
    "        # get returns of these permnos\n",
    "        crsp_p_firms = crsp_window[crsp_window['permno'].isin(basket)]\n",
    "        \n",
    "        # pivot returns\n",
    "        returns = crsp_p_firms.pivot(index='date', columns='permno', values='ret')\n",
    "        returns = returns.iloc[1:,:] # drop the first row\n",
    "        \n",
    "        # create equally weighted portfolio (monthly rebalancing)\n",
    "        return_port = returns.mean(axis=1)\n",
    "        return_port.name = str(p)\n",
    "        \n",
    "        # collect portfolio returns in dec_port\n",
    "        portfolios_window += [return_port]\n",
    "        \n",
    "    # merge the portfolios\n",
    "    portfolios_window = pd.concat(portfolios_window,axis=1)\n",
    "        \n",
    "    # collect results in portfolios\n",
    "    portfolios_0 += [portfolios_window]\n",
    "\n",
    "# merge the returns from all windows\n",
    "portfolios_0 = pd.concat(portfolios_0,axis=0)\n",
    "\n",
    "\n",
    "print('Step 3 completed in %.1fs' % (time.time()-t)) # show how long it took to run this code block\n",
    "\n"
   ]
  },
  {
   "cell_type": "code",
   "execution_count": 23,
   "metadata": {
    "scrolled": true
   },
   "outputs": [
    {
     "data": {
      "text/html": [
       "<div>\n",
       "<style scoped>\n",
       "    .dataframe tbody tr th:only-of-type {\n",
       "        vertical-align: middle;\n",
       "    }\n",
       "\n",
       "    .dataframe tbody tr th {\n",
       "        vertical-align: top;\n",
       "    }\n",
       "\n",
       "    .dataframe thead th {\n",
       "        text-align: right;\n",
       "    }\n",
       "</style>\n",
       "<table border=\"1\" class=\"dataframe\">\n",
       "  <thead>\n",
       "    <tr style=\"text-align: right;\">\n",
       "      <th></th>\n",
       "      <th>0</th>\n",
       "      <th>1</th>\n",
       "      <th>2</th>\n",
       "      <th>3</th>\n",
       "      <th>4</th>\n",
       "      <th>5</th>\n",
       "    </tr>\n",
       "    <tr>\n",
       "      <th>date</th>\n",
       "      <th></th>\n",
       "      <th></th>\n",
       "      <th></th>\n",
       "      <th></th>\n",
       "      <th></th>\n",
       "      <th></th>\n",
       "    </tr>\n",
       "  </thead>\n",
       "  <tbody>\n",
       "    <tr>\n",
       "      <th>1987-07-31</th>\n",
       "      <td>0.038191</td>\n",
       "      <td>0.040972</td>\n",
       "      <td>0.042870</td>\n",
       "      <td>0.021221</td>\n",
       "      <td>-0.016970</td>\n",
       "      <td>0.037230</td>\n",
       "    </tr>\n",
       "    <tr>\n",
       "      <th>1987-08-31</th>\n",
       "      <td>0.029609</td>\n",
       "      <td>0.032789</td>\n",
       "      <td>0.035770</td>\n",
       "      <td>0.026213</td>\n",
       "      <td>-0.003396</td>\n",
       "      <td>0.030932</td>\n",
       "    </tr>\n",
       "    <tr>\n",
       "      <th>1987-09-30</th>\n",
       "      <td>-0.026768</td>\n",
       "      <td>-0.018685</td>\n",
       "      <td>-0.006135</td>\n",
       "      <td>-0.012750</td>\n",
       "      <td>0.014018</td>\n",
       "      <td>-0.016656</td>\n",
       "    </tr>\n",
       "    <tr>\n",
       "      <th>1987-10-30</th>\n",
       "      <td>-0.272076</td>\n",
       "      <td>-0.251540</td>\n",
       "      <td>-0.246018</td>\n",
       "      <td>-0.177002</td>\n",
       "      <td>0.095075</td>\n",
       "      <td>-0.240797</td>\n",
       "    </tr>\n",
       "    <tr>\n",
       "      <th>1987-11-30</th>\n",
       "      <td>-0.052665</td>\n",
       "      <td>-0.046193</td>\n",
       "      <td>-0.034254</td>\n",
       "      <td>-0.020470</td>\n",
       "      <td>0.032195</td>\n",
       "      <td>-0.039686</td>\n",
       "    </tr>\n",
       "    <tr>\n",
       "      <th>...</th>\n",
       "      <td>...</td>\n",
       "      <td>...</td>\n",
       "      <td>...</td>\n",
       "      <td>...</td>\n",
       "      <td>...</td>\n",
       "      <td>...</td>\n",
       "    </tr>\n",
       "    <tr>\n",
       "      <th>2010-02-26</th>\n",
       "      <td>0.047873</td>\n",
       "      <td>0.035243</td>\n",
       "      <td>0.007620</td>\n",
       "      <td>0.041849</td>\n",
       "      <td>-0.006024</td>\n",
       "      <td>0.038760</td>\n",
       "    </tr>\n",
       "    <tr>\n",
       "      <th>2010-03-31</th>\n",
       "      <td>0.070751</td>\n",
       "      <td>0.083484</td>\n",
       "      <td>0.088512</td>\n",
       "      <td>0.043454</td>\n",
       "      <td>-0.027298</td>\n",
       "      <td>0.095319</td>\n",
       "    </tr>\n",
       "    <tr>\n",
       "      <th>2010-04-30</th>\n",
       "      <td>0.055061</td>\n",
       "      <td>0.076558</td>\n",
       "      <td>0.120142</td>\n",
       "      <td>0.163848</td>\n",
       "      <td>0.108787</td>\n",
       "      <td>0.077118</td>\n",
       "    </tr>\n",
       "    <tr>\n",
       "      <th>2010-05-28</th>\n",
       "      <td>-0.074922</td>\n",
       "      <td>-0.069378</td>\n",
       "      <td>-0.091771</td>\n",
       "      <td>-0.108239</td>\n",
       "      <td>-0.033317</td>\n",
       "      <td>-0.075488</td>\n",
       "    </tr>\n",
       "    <tr>\n",
       "      <th>2010-06-30</th>\n",
       "      <td>-0.067309</td>\n",
       "      <td>-0.070857</td>\n",
       "      <td>-0.114305</td>\n",
       "      <td>-0.093336</td>\n",
       "      <td>-0.026027</td>\n",
       "      <td>-0.089402</td>\n",
       "    </tr>\n",
       "  </tbody>\n",
       "</table>\n",
       "<p>204 rows × 6 columns</p>\n",
       "</div>"
      ],
      "text/plain": [
       "                   0         1         2         3         4         5\n",
       "date                                                                  \n",
       "1987-07-31  0.038191  0.040972  0.042870  0.021221 -0.016970  0.037230\n",
       "1987-08-31  0.029609  0.032789  0.035770  0.026213 -0.003396  0.030932\n",
       "1987-09-30 -0.026768 -0.018685 -0.006135 -0.012750  0.014018 -0.016656\n",
       "1987-10-30 -0.272076 -0.251540 -0.246018 -0.177002  0.095075 -0.240797\n",
       "1987-11-30 -0.052665 -0.046193 -0.034254 -0.020470  0.032195 -0.039686\n",
       "...              ...       ...       ...       ...       ...       ...\n",
       "2010-02-26  0.047873  0.035243  0.007620  0.041849 -0.006024  0.038760\n",
       "2010-03-31  0.070751  0.083484  0.088512  0.043454 -0.027298  0.095319\n",
       "2010-04-30  0.055061  0.076558  0.120142  0.163848  0.108787  0.077118\n",
       "2010-05-28 -0.074922 -0.069378 -0.091771 -0.108239 -0.033317 -0.075488\n",
       "2010-06-30 -0.067309 -0.070857 -0.114305 -0.093336 -0.026027 -0.089402\n",
       "\n",
       "[204 rows x 6 columns]"
      ]
     },
     "execution_count": 23,
     "metadata": {},
     "output_type": "execute_result"
    }
   ],
   "source": [
    "#Portfolio number 5 is our zero dividend portfolio\n",
    "portfolios['5']= portfolios_0['0']\n",
    "portfolios"
   ]
  },
  {
   "cell_type": "code",
   "execution_count": 24,
   "metadata": {},
   "outputs": [],
   "source": [
    "portfolios.to_excel('portfolios_final.xlsx')"
   ]
  },
  {
   "cell_type": "markdown",
   "metadata": {},
   "source": [
    "### Step 4: Performance Evaluation\n",
    "#### Step 4a: Merge Portfolio returns with Fama French data"
   ]
  },
  {
   "cell_type": "code",
   "execution_count": 25,
   "metadata": {
    "id": "D3CrxzdOUUIG"
   },
   "outputs": [],
   "source": [
    "### load and prepare fama french data ###\n",
    "# load Fama French monthly factors\n",
    "ff = pd.read_csv('F-F_Research_Data_Factors_2018.csv')\n",
    "# rename columns\n",
    "ff.rename({'Mkt-RF':'ExMkt',\n",
    "           'DATE':'date'},axis=1,inplace=True)\n",
    "\n",
    "# date variables\n",
    "ff['year'] = ff['date'] // 100\n",
    "ff['month'] = ff['date'] % 100\n",
    "ff.set_index('date',inplace=True)\n",
    "\n",
    "\n",
    "### formatting ###\n",
    "# FF data is in percent. Convert to simple returns\n",
    "ff[['ExMkt', 'SMB', 'HML', 'RF']] /= 100\n",
    "\n",
    "\n",
    "### merge portfolio returns with Fama French data ###\n",
    "# date variables\n",
    "portfolios_ff = portfolios.copy() # create a copy of the portfolios dataframe so we can use it again later\n",
    "portfolios_ff['year'] = portfolios_ff.index.year\n",
    "portfolios_ff['month'] = portfolios_ff.index.month\n",
    "\n",
    "# merge\n",
    "portfolios_ff = pd.merge(portfolios_ff,ff,on=['year','month'])"
   ]
  },
  {
   "cell_type": "markdown",
   "metadata": {},
   "source": [
    "### Step 4b: Regressions"
   ]
  },
  {
   "cell_type": "code",
   "execution_count": 26,
   "metadata": {},
   "outputs": [
    {
     "name": "stdout",
     "output_type": "stream",
     "text": [
      "Average returns (annualized percent)\n",
      " 0    10.740896\n",
      "1    11.544543\n",
      "2    11.414925\n",
      "3    12.492999\n",
      "4     1.595771\n",
      "5    12.638745\n",
      "dtype: float64\n"
     ]
    }
   ],
   "source": [
    "# show average returns (annualized and in percent)\n",
    "print(\"Average returns (annualized percent)\\n\",((1+portfolios.mean(axis=0))**12-1)*100)\n",
    "\n",
    "# Calculate the excess returns\n",
    "for p in range(6):\n",
    "    portfolios_ff['ExRet_'+str(p)] = portfolios_ff[str(p)]-portfolios_ff['RF']"
   ]
  },
  {
   "cell_type": "code",
   "execution_count": 27,
   "metadata": {},
   "outputs": [],
   "source": [
    "### Market model regressions ###\n",
    "table_capm = []\n",
    "for p in range(6):\n",
    "    # regress portfolio excess return on market excess return\n",
    "    results = sm.OLS(portfolios_ff['ExRet_'+str(p)],\n",
    "                     sm.add_constant(portfolios_ff['ExMkt'])).fit()\n",
    "    \n",
    "    # collect results\n",
    "    table_row = pd.DataFrame({'alpha':results.params['const'],\n",
    "                              'beta_mkt':results.params['ExMkt'],\n",
    "                              'alpha_t':results.tvalues['const'],\n",
    "                              'rmse':np.sqrt(results.mse_resid),\n",
    "                              'R2':results.rsquared},\n",
    "                             index=[p])\n",
    "    \n",
    "    table_capm += [table_row]"
   ]
  },
  {
   "cell_type": "code",
   "execution_count": 28,
   "metadata": {},
   "outputs": [
    {
     "name": "stdout",
     "output_type": "stream",
     "text": [
      "CAPM\n",
      "               alpha  beta_mkt   alpha_t      rmse        R2\n",
      "portfolio                                                  \n",
      "0          0.001520  0.888347  0.954061  0.022679  0.754634\n",
      "1          0.002645  0.746606  1.475068  0.025525  0.631670\n",
      "2          0.002749  0.691243  1.418261  0.027593  0.557119\n",
      "3          0.003808  0.623045  1.673264  0.032396  0.425753\n",
      "4         -0.001491 -0.264915 -0.845319  0.025106  0.182463\n",
      "5          0.003359  0.776022  2.057416  0.023240  0.690883\n"
     ]
    }
   ],
   "source": [
    "# Combine the results for all portfolios\n",
    "table_capm = pd.concat(table_capm,axis=0)\n",
    "table_capm.index.name = 'portfolio'\n",
    "\n",
    "# show results\n",
    "print(\"CAPM\\n\",table_capm)"
   ]
  },
  {
   "cell_type": "code",
   "execution_count": 29,
   "metadata": {
    "colab": {
     "base_uri": "https://localhost:8080/"
    },
    "id": "TsVq_TL-UUIH",
    "outputId": "ad9f45fb-5e43-40fd-ed37-b831ebff84a9"
   },
   "outputs": [
    {
     "name": "stdout",
     "output_type": "stream",
     "text": [
      "Fama-French 3\n",
      "              alpha  beta_mkt  beta_size  beta_hml   alpha_t      rmse  \\\n",
      "quintile                                                                \n",
      "0        -0.000790  0.979954   0.405876  0.599966 -0.782840  0.014218   \n",
      "1        -0.000118  0.878141   0.366892  0.714892 -0.101198  0.016376   \n",
      "2        -0.000363  0.842390   0.397482  0.805113 -0.305473  0.016757   \n",
      "3         0.000421  0.776966   0.489441  0.877368  0.278483  0.021282   \n",
      "4        -0.002608 -0.201787   0.094682  0.287830 -1.527846  0.024038   \n",
      "5         0.000707  0.895368   0.389454  0.687045  0.762596  0.013057   \n",
      "\n",
      "                R2  \n",
      "quintile            \n",
      "0         0.904521  \n",
      "1         0.849895  \n",
      "2         0.838284  \n",
      "3         0.754630  \n",
      "4         0.257959  \n",
      "5         0.903387  \n"
     ]
    }
   ],
   "source": [
    "### Three Factor model regressions ###\n",
    "table_ff = []\n",
    "for p in range(6):\n",
    "    # regress portfolio excess return on market excess return\n",
    "    results = sm.OLS(portfolios_ff['ExRet_'+str(p)],\n",
    "                     sm.add_constant(portfolios_ff[['ExMkt','SMB','HML']])).fit()\n",
    "    \n",
    "    # collect results\n",
    "    table_row = pd.DataFrame({'alpha':results.params['const'],\n",
    "                              'beta_mkt':results.params['ExMkt'],\n",
    "                              'beta_size':results.params['SMB'],\n",
    "                              'beta_hml':results.params['HML'],\n",
    "                              'alpha_t':results.tvalues['const'],\n",
    "                              'rmse':np.sqrt(results.mse_resid),\n",
    "                              'R2':results.rsquared},\n",
    "                             index=[p])\n",
    "    \n",
    "    table_ff += [table_row]\n",
    "\n",
    "# Combine the results for all portfolios\n",
    "table_ff = pd.concat(table_ff,axis=0)\n",
    "table_ff.index.name = 'quintile'\n",
    "\n",
    "# show results\n",
    "print(\"Fama-French 3\\n\",table_ff)"
   ]
  },
  {
   "cell_type": "markdown",
   "metadata": {},
   "source": [
    "## Double Sorting by dividend yield and market equity"
   ]
  },
  {
   "cell_type": "code",
   "execution_count": 30,
   "metadata": {},
   "outputs": [
    {
     "name": "stdout",
     "output_type": "stream",
     "text": [
      "Create portfolios\n"
     ]
    },
    {
     "name": "stderr",
     "output_type": "stream",
     "text": [
      "years: 100%|███████████████████████████████████████████████████████████████████████████| 32/32 [00:02<00:00, 15.27it/s]"
     ]
    },
    {
     "name": "stdout",
     "output_type": "stream",
     "text": [
      "Step 3 completed in 2.1s\n"
     ]
    },
    {
     "name": "stderr",
     "output_type": "stream",
     "text": [
      "\n"
     ]
    }
   ],
   "source": [
    "#Create 5 portfolios based on dv dataframe (companies with positive dividend yield)\n",
    "print(\"Create portfolios\")\n",
    "t = time.time() # reset our timer\n",
    "\n",
    "# loop over all years in the data\n",
    "# Note: the first loop loops over the years in range(1981,2017).\n",
    "#    You can wrap any list by the tqdm command to display a progress bar while looping over the list\n",
    "portfolios_ds = [] # create an empty list to collect the portfolio returns\n",
    "for year in tqdm(range(1985,2017),desc=\"years\"):\n",
    "    # take the companies that were alive at t-1\n",
    "    permno_list=list(dv[dv['year']==year-1]['permno'].unique()) \n",
    "    \n",
    "    # get the sorting variable for these companies at t-1\n",
    "    sorting_data = dv.loc[(dv['year']==(year-1)) & \\\n",
    "                           (dv['permno'].isin(permno_list)), \\\n",
    "                           ['permno','permco','dvy_a','market_cap']]\n",
    "    sorting_data=sorting_data.sort_values(['dvy_a','market_cap']).reset_index(drop=True)\n",
    "    \n",
    "    if(len(sorting_data)==0):\n",
    "        continue\n",
    "    \n",
    "    # sort into 5 baskets by cashflow over assets\n",
    "    nportfolios = 4 # number of portfolios\n",
    "    #sorting_data['dvy_a','market_cap']\n",
    "    sorting_data['rank'] = pd.qcut(sorting_data.index,nportfolios, labels=False)#, precision=4)\n",
    "    \n",
    "    # select the return data with some time lag to make sure that the accounting information is public (data from July at year t to June in year t+1)\n",
    "    crsp_window = crsp[((crsp['year']==year) & (crsp['month']>=6)) | \\\n",
    "                       ((crsp['year']==year+1) & (crsp['month']<=6))]\n",
    "    \n",
    "    # create the portfolio returns for the current window and collect them in portfolios_window\n",
    "    portfolios_window = [] \n",
    "    for p in range(nportfolios):\n",
    "        # get list of permnos that are in this portfolio\n",
    "        basket = sorting_data.loc[sorting_data['rank'] == p,'permno'].tolist()\n",
    "        \n",
    "        # get returns of these permnos\n",
    "        crsp_p_firms = crsp_window[crsp_window['permno'].isin(basket)]\n",
    "        \n",
    "        # pivot returns\n",
    "        returns = crsp_p_firms.pivot(index='date', columns='permno', values='ret')\n",
    "        returns = returns.iloc[1:,:] # drop the first row\n",
    "        \n",
    "        # create equally weighted portfolio (monthly rebalancing)\n",
    "        return_port = returns.mean(axis=1)\n",
    "        return_port.name = str(p)\n",
    "        \n",
    "        # collect portfolio returns in dec_port\n",
    "        portfolios_window += [return_port]\n",
    "        \n",
    "    # merge the portfolios\n",
    "    portfolios_window = pd.concat(portfolios_window,axis=1)\n",
    "        \n",
    "    # collect results in portfolios\n",
    "    portfolios_ds += [portfolios_window]\n",
    "\n",
    "# merge the returns from all windows\n",
    "portfolios_ds = pd.concat(portfolios_ds,axis=0)\n",
    "\n",
    "\n",
    "print('Step 3 completed in %.1fs' % (time.time()-t)) # show how long it took to run this code block\n",
    "\n"
   ]
  },
  {
   "cell_type": "code",
   "execution_count": 31,
   "metadata": {},
   "outputs": [],
   "source": [
    "portfolios_ds['4']=portfolios_ds['3']-portfolios_ds['0']"
   ]
  },
  {
   "cell_type": "code",
   "execution_count": 32,
   "metadata": {},
   "outputs": [
    {
     "name": "stdout",
     "output_type": "stream",
     "text": [
      "Create portfolios\n"
     ]
    },
    {
     "name": "stderr",
     "output_type": "stream",
     "text": [
      "years: 100%|███████████████████████████████████████████████████████████████████████████| 32/32 [00:01<00:00, 16.69it/s]"
     ]
    },
    {
     "name": "stdout",
     "output_type": "stream",
     "text": [
      "Step 3 completed in 1.9s\n"
     ]
    },
    {
     "name": "stderr",
     "output_type": "stream",
     "text": [
      "\n"
     ]
    }
   ],
   "source": [
    "#Create 5 portfolios based on dv dataframe (companies with positive dividend yield)\n",
    "print(\"Create portfolios\")\n",
    "t = time.time() # reset our timer\n",
    "\n",
    "# loop over all years in the data\n",
    "# Note: the first loop loops over the years in range(1981,2017).\n",
    "#    You can wrap any list by the tqdm command to display a progress bar while looping over the list\n",
    "portfolios_ds_0 = [] # create an empty list to collect the portfolio returns\n",
    "for year in tqdm(range(1985,2017),desc=\"years\"):\n",
    "    # take the companies that were alive at t-1\n",
    "    permno_list=list(dv_0[dv_0['year']==year-1]['permno'].unique()) \n",
    "    \n",
    "    # get the sorting variable for these companies at t-1\n",
    "    sorting_data = dv.loc[(dv_0['year']==(year-1)) & \\\n",
    "                           (dv_0['permno'].isin(permno_list)), \\\n",
    "                           ['permno','permco','dvy_a','market_cap']]\n",
    "    sorting_data=sorting_data.sort_values(['dvy_a','market_cap']).reset_index(drop=True)\n",
    "    \n",
    "    if(len(sorting_data)==0):\n",
    "        continue\n",
    "    \n",
    "    # sort into 5 baskets by cashflow over assets\n",
    "    nportfolios = 1 # number of portfolios\n",
    "    #sorting_data['dvy_a','market_cap']\n",
    "    sorting_data['rank'] = pd.qcut(sorting_data.index,nportfolios, labels=False)#, precision=4)\n",
    "    \n",
    "    # select the return data with some time lag to make sure that the accounting information is public (data from July at year t to June in year t+1)\n",
    "    crsp_window = crsp[((crsp['year']==year) & (crsp['month']>=6)) | \\\n",
    "                       ((crsp['year']==year+1) & (crsp['month']<=6))]\n",
    "    \n",
    "    # create the portfolio returns for the current window and collect them in portfolios_window\n",
    "    portfolios_window = [] \n",
    "    for p in range(nportfolios):\n",
    "        # get list of permnos that are in this portfolio\n",
    "        basket = sorting_data.loc[sorting_data['rank'] == p,'permno'].tolist()\n",
    "        \n",
    "        # get returns of these permnos\n",
    "        crsp_p_firms = crsp_window[crsp_window['permno'].isin(basket)]\n",
    "        \n",
    "        # pivot returns\n",
    "        returns = crsp_p_firms.pivot(index='date', columns='permno', values='ret')\n",
    "        returns = returns.iloc[1:,:] # drop the first row\n",
    "        \n",
    "        # create equally weighted portfolio (monthly rebalancing)\n",
    "        return_port = returns.mean(axis=1)\n",
    "        return_port.name = str(p)\n",
    "        \n",
    "        # collect portfolio returns in dec_port\n",
    "        portfolios_window += [return_port]\n",
    "        \n",
    "    # merge the portfolios\n",
    "    portfolios_window = pd.concat(portfolios_window,axis=1)\n",
    "        \n",
    "    # collect results in portfolios\n",
    "    portfolios_ds_0 += [portfolios_window]\n",
    "\n",
    "# merge the returns from all windows\n",
    "portfolios_ds_0 = pd.concat(portfolios_ds_0,axis=0)\n",
    "\n",
    "\n",
    "print('Step 3 completed in %.1fs' % (time.time()-t)) # show how long it took to run this code block\n",
    "\n"
   ]
  },
  {
   "cell_type": "code",
   "execution_count": 33,
   "metadata": {},
   "outputs": [
    {
     "data": {
      "text/html": [
       "<div>\n",
       "<style scoped>\n",
       "    .dataframe tbody tr th:only-of-type {\n",
       "        vertical-align: middle;\n",
       "    }\n",
       "\n",
       "    .dataframe tbody tr th {\n",
       "        vertical-align: top;\n",
       "    }\n",
       "\n",
       "    .dataframe thead th {\n",
       "        text-align: right;\n",
       "    }\n",
       "</style>\n",
       "<table border=\"1\" class=\"dataframe\">\n",
       "  <thead>\n",
       "    <tr style=\"text-align: right;\">\n",
       "      <th></th>\n",
       "      <th>0</th>\n",
       "      <th>1</th>\n",
       "      <th>2</th>\n",
       "      <th>3</th>\n",
       "      <th>4</th>\n",
       "      <th>5</th>\n",
       "    </tr>\n",
       "    <tr>\n",
       "      <th>date</th>\n",
       "      <th></th>\n",
       "      <th></th>\n",
       "      <th></th>\n",
       "      <th></th>\n",
       "      <th></th>\n",
       "      <th></th>\n",
       "    </tr>\n",
       "  </thead>\n",
       "  <tbody>\n",
       "    <tr>\n",
       "      <th>1987-07-31</th>\n",
       "      <td>0.038191</td>\n",
       "      <td>0.040972</td>\n",
       "      <td>0.042870</td>\n",
       "      <td>0.021221</td>\n",
       "      <td>-0.016970</td>\n",
       "      <td>0.037230</td>\n",
       "    </tr>\n",
       "    <tr>\n",
       "      <th>1987-08-31</th>\n",
       "      <td>0.029609</td>\n",
       "      <td>0.032789</td>\n",
       "      <td>0.035770</td>\n",
       "      <td>0.026213</td>\n",
       "      <td>-0.003396</td>\n",
       "      <td>0.030932</td>\n",
       "    </tr>\n",
       "    <tr>\n",
       "      <th>1987-09-30</th>\n",
       "      <td>-0.026768</td>\n",
       "      <td>-0.018685</td>\n",
       "      <td>-0.006135</td>\n",
       "      <td>-0.012750</td>\n",
       "      <td>0.014018</td>\n",
       "      <td>-0.016656</td>\n",
       "    </tr>\n",
       "    <tr>\n",
       "      <th>1987-10-30</th>\n",
       "      <td>-0.272076</td>\n",
       "      <td>-0.251540</td>\n",
       "      <td>-0.246018</td>\n",
       "      <td>-0.177002</td>\n",
       "      <td>0.095075</td>\n",
       "      <td>-0.240797</td>\n",
       "    </tr>\n",
       "    <tr>\n",
       "      <th>1987-11-30</th>\n",
       "      <td>-0.052665</td>\n",
       "      <td>-0.046193</td>\n",
       "      <td>-0.034254</td>\n",
       "      <td>-0.020470</td>\n",
       "      <td>0.032195</td>\n",
       "      <td>-0.039686</td>\n",
       "    </tr>\n",
       "    <tr>\n",
       "      <th>...</th>\n",
       "      <td>...</td>\n",
       "      <td>...</td>\n",
       "      <td>...</td>\n",
       "      <td>...</td>\n",
       "      <td>...</td>\n",
       "      <td>...</td>\n",
       "    </tr>\n",
       "    <tr>\n",
       "      <th>2010-02-26</th>\n",
       "      <td>0.047873</td>\n",
       "      <td>0.035243</td>\n",
       "      <td>0.007620</td>\n",
       "      <td>0.041849</td>\n",
       "      <td>-0.006024</td>\n",
       "      <td>0.038760</td>\n",
       "    </tr>\n",
       "    <tr>\n",
       "      <th>2010-03-31</th>\n",
       "      <td>0.070751</td>\n",
       "      <td>0.083484</td>\n",
       "      <td>0.088512</td>\n",
       "      <td>0.043454</td>\n",
       "      <td>-0.027298</td>\n",
       "      <td>0.095319</td>\n",
       "    </tr>\n",
       "    <tr>\n",
       "      <th>2010-04-30</th>\n",
       "      <td>0.055061</td>\n",
       "      <td>0.076558</td>\n",
       "      <td>0.120142</td>\n",
       "      <td>0.163848</td>\n",
       "      <td>0.108787</td>\n",
       "      <td>0.077118</td>\n",
       "    </tr>\n",
       "    <tr>\n",
       "      <th>2010-05-28</th>\n",
       "      <td>-0.074922</td>\n",
       "      <td>-0.069378</td>\n",
       "      <td>-0.091771</td>\n",
       "      <td>-0.108239</td>\n",
       "      <td>-0.033317</td>\n",
       "      <td>-0.075488</td>\n",
       "    </tr>\n",
       "    <tr>\n",
       "      <th>2010-06-30</th>\n",
       "      <td>-0.067309</td>\n",
       "      <td>-0.070857</td>\n",
       "      <td>-0.114305</td>\n",
       "      <td>-0.093336</td>\n",
       "      <td>-0.026027</td>\n",
       "      <td>-0.089402</td>\n",
       "    </tr>\n",
       "  </tbody>\n",
       "</table>\n",
       "<p>204 rows × 6 columns</p>\n",
       "</div>"
      ],
      "text/plain": [
       "                   0         1         2         3         4         5\n",
       "date                                                                  \n",
       "1987-07-31  0.038191  0.040972  0.042870  0.021221 -0.016970  0.037230\n",
       "1987-08-31  0.029609  0.032789  0.035770  0.026213 -0.003396  0.030932\n",
       "1987-09-30 -0.026768 -0.018685 -0.006135 -0.012750  0.014018 -0.016656\n",
       "1987-10-30 -0.272076 -0.251540 -0.246018 -0.177002  0.095075 -0.240797\n",
       "1987-11-30 -0.052665 -0.046193 -0.034254 -0.020470  0.032195 -0.039686\n",
       "...              ...       ...       ...       ...       ...       ...\n",
       "2010-02-26  0.047873  0.035243  0.007620  0.041849 -0.006024  0.038760\n",
       "2010-03-31  0.070751  0.083484  0.088512  0.043454 -0.027298  0.095319\n",
       "2010-04-30  0.055061  0.076558  0.120142  0.163848  0.108787  0.077118\n",
       "2010-05-28 -0.074922 -0.069378 -0.091771 -0.108239 -0.033317 -0.075488\n",
       "2010-06-30 -0.067309 -0.070857 -0.114305 -0.093336 -0.026027 -0.089402\n",
       "\n",
       "[204 rows x 6 columns]"
      ]
     },
     "execution_count": 33,
     "metadata": {},
     "output_type": "execute_result"
    }
   ],
   "source": [
    "portfolios_ds['5'] =portfolios_ds_0['0']\n",
    "portfolios_ds"
   ]
  },
  {
   "cell_type": "markdown",
   "metadata": {},
   "source": [
    "### Step 4: Performance Evaluation For double Sorting\n",
    "#### Step 4a: Merge Portfolio returns with Fama French data"
   ]
  },
  {
   "cell_type": "code",
   "execution_count": 34,
   "metadata": {},
   "outputs": [],
   "source": [
    "portfolios_ds.to_excel('portfolios_doublesorted.xlsx')"
   ]
  },
  {
   "cell_type": "markdown",
   "metadata": {},
   "source": [
    "### Step 4b: Regressions"
   ]
  },
  {
   "cell_type": "code",
   "execution_count": 35,
   "metadata": {},
   "outputs": [
    {
     "name": "stdout",
     "output_type": "stream",
     "text": [
      "Average returns (annualized percent)\n",
      " 0    10.740896\n",
      "1    11.544543\n",
      "2    11.414925\n",
      "3    12.492999\n",
      "4     1.595771\n",
      "5    12.638745\n",
      "dtype: float64\n"
     ]
    }
   ],
   "source": [
    "# show average returns (annualized and in percent)\n",
    "print(\"Average returns (annualized percent)\\n\",((1+portfolios_ds.mean(axis=0))**12-1)*100)\n",
    "\n",
    "# Calculate the excess returns\n",
    "for p in range(6):\n",
    "    portfolios_ff['ExRet_'+str(p)] = portfolios_ff[str(p)]-portfolios_ff['RF']"
   ]
  },
  {
   "cell_type": "code",
   "execution_count": 36,
   "metadata": {},
   "outputs": [],
   "source": [
    "### Market model regressions ###\n",
    "table_capm = []\n",
    "for p in range(6):\n",
    "    # regress portfolio excess return on market excess return\n",
    "    results = sm.OLS(portfolios_ff['ExRet_'+str(p)],\n",
    "                     sm.add_constant(portfolios_ff['ExMkt'])).fit()\n",
    "    \n",
    "    # collect results\n",
    "    table_row = pd.DataFrame({'alpha':results.params['const'],\n",
    "                              'beta_mkt':results.params['ExMkt'],\n",
    "                              'alpha_t':results.tvalues['const'],\n",
    "                              'rmse':np.sqrt(results.mse_resid),\n",
    "                              'R2':results.rsquared},\n",
    "                             index=[p])\n",
    "    \n",
    "    table_capm += [table_row]"
   ]
  },
  {
   "cell_type": "code",
   "execution_count": 37,
   "metadata": {},
   "outputs": [
    {
     "name": "stdout",
     "output_type": "stream",
     "text": [
      "CAPM\n",
      "              alpha  beta_mkt   alpha_t      rmse        R2\n",
      "quintile                                                  \n",
      "0         0.001520  0.888347  0.954061  0.022679  0.754634\n",
      "1         0.002645  0.746606  1.475068  0.025525  0.631670\n",
      "2         0.002749  0.691243  1.418261  0.027593  0.557119\n",
      "3         0.003808  0.623045  1.673264  0.032396  0.425753\n",
      "4        -0.001491 -0.264915 -0.845319  0.025106  0.182463\n",
      "5         0.003359  0.776022  2.057416  0.023240  0.690883\n"
     ]
    }
   ],
   "source": [
    "# Combine the results for all portfolios\n",
    "table_capm = pd.concat(table_capm,axis=0)\n",
    "table_capm.index.name = 'quintile'\n",
    "\n",
    "# show results\n",
    "print(\"CAPM\\n\",table_capm)"
   ]
  },
  {
   "cell_type": "code",
   "execution_count": 38,
   "metadata": {},
   "outputs": [
    {
     "name": "stdout",
     "output_type": "stream",
     "text": [
      "Fama-French 3\n",
      "              alpha  beta_mkt  beta_size  beta_hml   alpha_t      rmse  \\\n",
      "quintile                                                                \n",
      "0        -0.000790  0.979954   0.405876  0.599966 -0.782840  0.014218   \n",
      "1        -0.000118  0.878141   0.366892  0.714892 -0.101198  0.016376   \n",
      "2        -0.000363  0.842390   0.397482  0.805113 -0.305473  0.016757   \n",
      "3         0.000421  0.776966   0.489441  0.877368  0.278483  0.021282   \n",
      "4        -0.002608 -0.201787   0.094682  0.287830 -1.527846  0.024038   \n",
      "5         0.000707  0.895368   0.389454  0.687045  0.762596  0.013057   \n",
      "\n",
      "                R2  \n",
      "quintile            \n",
      "0         0.904521  \n",
      "1         0.849895  \n",
      "2         0.838284  \n",
      "3         0.754630  \n",
      "4         0.257959  \n",
      "5         0.903387  \n"
     ]
    }
   ],
   "source": [
    "### Three Factor model regressions ###\n",
    "table_ff = []\n",
    "for p in range(6):\n",
    "    # regress portfolio excess return on market excess return\n",
    "    results = sm.OLS(portfolios_ff['ExRet_'+str(p)],\n",
    "                     sm.add_constant(portfolios_ff[['ExMkt','SMB','HML']])).fit()\n",
    "    \n",
    "    # collect results\n",
    "    table_row = pd.DataFrame({'alpha':results.params['const'],\n",
    "                              'beta_mkt':results.params['ExMkt'],\n",
    "                              'beta_size':results.params['SMB'],\n",
    "                              'beta_hml':results.params['HML'],\n",
    "                              'alpha_t':results.tvalues['const'],\n",
    "                              'rmse':np.sqrt(results.mse_resid),\n",
    "                              'R2':results.rsquared},\n",
    "                             index=[p])\n",
    "    \n",
    "    table_ff += [table_row]\n",
    "\n",
    "# Combine the results for all portfolios\n",
    "table_ff = pd.concat(table_ff,axis=0)\n",
    "table_ff.index.name = 'quintile'\n",
    "\n",
    "# show results\n",
    "print(\"Fama-French 3\\n\",table_ff)"
   ]
  }
 ],
 "metadata": {
  "colab": {
   "collapsed_sections": [],
   "name": "InvestmentStrategy_ew.ipynb",
   "provenance": []
  },
  "interpreter": {
   "hash": "4bf7354a9a62b5a751cc0be7c5d3036e575c74d4eae4fc5c0bbeda953fcfcaab"
  },
  "kernelspec": {
   "display_name": "Python 3 (ipykernel)",
   "language": "python",
   "name": "python3"
  },
  "language_info": {
   "codemirror_mode": {
    "name": "ipython",
    "version": 3
   },
   "file_extension": ".py",
   "mimetype": "text/x-python",
   "name": "python",
   "nbconvert_exporter": "python",
   "pygments_lexer": "ipython3",
   "version": "3.11.5"
  }
 },
 "nbformat": 4,
 "nbformat_minor": 1
}
